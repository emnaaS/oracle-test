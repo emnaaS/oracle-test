{
 "cells": [
  {
   "cell_type": "markdown",
   "id": "22e97ebb-b279-4ac7-9855-3dbbb866eeeb",
   "metadata": {},
   "source": [
    "### OCI Data Science - Useful Tips\n",
    "<details>\n",
    "<summary><font size=\"2\">Check for Public Internet Access</font></summary>\n",
    "\n",
    "```python\n",
    "import requests\n",
    "response = requests.get(\"https://oracle.com\")\n",
    "assert response.status_code==200, \"Internet connection failed\"\n",
    "```\n",
    "</details>\n",
    "<details>\n",
    "<summary><font size=\"2\">Helpful Documentation </font></summary>\n",
    "<ul><li><a href=\"https://docs.cloud.oracle.com/en-us/iaas/data-science/using/data-science.htm\">Data Science Service Documentation</a></li>\n",
    "<li><a href=\"https://docs.cloud.oracle.com/iaas/tools/ads-sdk/latest/index.html\">ADS documentation</a></li>\n",
    "</ul>\n",
    "</details>\n",
    "<details>\n",
    "<summary><font size=\"2\">Typical Cell Imports and Settings for ADS</font></summary>\n",
    "\n",
    "```python\n",
    "%load_ext autoreload\n",
    "%autoreload 2\n",
    "%matplotlib inline\n",
    "\n",
    "import warnings\n",
    "warnings.filterwarnings('ignore')\n",
    "\n",
    "import logging\n",
    "logging.basicConfig(format='%(levelname)s:%(message)s', level=logging.ERROR)\n",
    "\n",
    "import ads\n",
    "from ads.dataset.factory import DatasetFactory\n",
    "from ads.automl.provider import OracleAutoMLProvider\n",
    "from ads.automl.driver import AutoML\n",
    "from ads.evaluations.evaluator import ADSEvaluator\n",
    "from ads.common.data import ADSData\n",
    "from ads.explanations.explainer import ADSExplainer\n",
    "from ads.explanations.mlx_global_explainer import MLXGlobalExplainer\n",
    "from ads.explanations.mlx_local_explainer import MLXLocalExplainer\n",
    "from ads.catalog.model import ModelCatalog\n",
    "from ads.common.model_artifact import ModelArtifact\n",
    "```\n",
    "</details>\n",
    "<details>\n",
    "<summary><font size=\"2\">Useful Environment Variables</font></summary>\n",
    "\n",
    "```python\n",
    "import os\n",
    "print(os.environ[\"NB_SESSION_COMPARTMENT_OCID\"])\n",
    "print(os.environ[\"PROJECT_OCID\"])\n",
    "print(os.environ[\"USER_OCID\"])\n",
    "print(os.environ[\"TENANCY_OCID\"])\n",
    "print(os.environ[\"NB_REGION\"])\n",
    "```\n",
    "</details>"
   ]
  },
  {
   "cell_type": "code",
   "execution_count": 1,
   "id": "e7f2970d-14be-416a-9a37-c9ccf5450741",
   "metadata": {
    "tags": []
   },
   "outputs": [],
   "source": [
    "import pandas as pd\n",
    "fraud3 = pd.read_csv('fraud3.csv')"
   ]
  },
  {
   "cell_type": "code",
   "execution_count": 2,
   "id": "441ee45e-6117-4267-ac1c-2e5c1be832f2",
   "metadata": {
    "tags": []
   },
   "outputs": [],
   "source": [
    "import numpy as np\n",
    "fraud3 = np.array(fraud3)"
   ]
  },
  {
   "cell_type": "code",
   "execution_count": 3,
   "id": "e1f548fc-ad86-4c20-9db6-f5b53850150e",
   "metadata": {
    "collapsed": true,
    "jupyter": {
     "outputs_hidden": true
    },
    "tags": []
   },
   "outputs": [
    {
     "name": "stdout",
     "output_type": "stream",
     "text": [
      "Collecting ray\n",
      "  Using cached ray-2.47.0-cp311-cp311-manylinux2014_x86_64.whl.metadata (20 kB)\n",
      "Requirement already satisfied: click>=7.0 in /opt/conda/lib/python3.11/site-packages (from ray) (8.0.4)\n",
      "Requirement already satisfied: filelock in /opt/conda/lib/python3.11/site-packages (from ray) (3.18.0)\n",
      "Requirement already satisfied: jsonschema in /opt/conda/lib/python3.11/site-packages (from ray) (4.24.0)\n",
      "Collecting msgpack<2.0.0,>=1.0.0 (from ray)\n",
      "  Using cached msgpack-1.1.1-cp311-cp311-manylinux_2_17_x86_64.manylinux2014_x86_64.whl.metadata (8.4 kB)\n",
      "Requirement already satisfied: packaging in /opt/conda/lib/python3.11/site-packages (from ray) (24.0)\n",
      "Collecting protobuf!=3.19.5,>=3.15.3 (from ray)\n",
      "  Using cached protobuf-6.31.1-cp39-abi3-manylinux2014_x86_64.whl.metadata (593 bytes)\n",
      "Requirement already satisfied: pyyaml in /opt/conda/lib/python3.11/site-packages (from ray) (6.0.2)\n",
      "Requirement already satisfied: requests in /opt/conda/lib/python3.11/site-packages (from ray) (2.31.0)\n",
      "Requirement already satisfied: attrs>=22.2.0 in /opt/conda/lib/python3.11/site-packages (from jsonschema->ray) (25.3.0)\n",
      "Requirement already satisfied: jsonschema-specifications>=2023.03.6 in /opt/conda/lib/python3.11/site-packages (from jsonschema->ray) (2025.4.1)\n",
      "Requirement already satisfied: referencing>=0.28.4 in /opt/conda/lib/python3.11/site-packages (from jsonschema->ray) (0.36.2)\n",
      "Requirement already satisfied: rpds-py>=0.7.1 in /opt/conda/lib/python3.11/site-packages (from jsonschema->ray) (0.25.1)\n",
      "Requirement already satisfied: typing-extensions>=4.4.0 in /opt/conda/lib/python3.11/site-packages (from referencing>=0.28.4->jsonschema->ray) (4.14.0)\n",
      "Requirement already satisfied: charset-normalizer<4,>=2 in /opt/conda/lib/python3.11/site-packages (from requests->ray) (3.3.2)\n",
      "Requirement already satisfied: idna<4,>=2.5 in /opt/conda/lib/python3.11/site-packages (from requests->ray) (3.10)\n",
      "Requirement already satisfied: urllib3<3,>=1.21.1 in /opt/conda/lib/python3.11/site-packages (from requests->ray) (2.4.0)\n",
      "Requirement already satisfied: certifi>=2017.4.17 in /opt/conda/lib/python3.11/site-packages (from requests->ray) (2025.4.26)\n",
      "Using cached ray-2.47.0-cp311-cp311-manylinux2014_x86_64.whl (68.9 MB)\n",
      "Using cached msgpack-1.1.1-cp311-cp311-manylinux_2_17_x86_64.manylinux2014_x86_64.whl (429 kB)\n",
      "Using cached protobuf-6.31.1-cp39-abi3-manylinux2014_x86_64.whl (321 kB)\n",
      "Installing collected packages: protobuf, msgpack, ray\n",
      "\u001b[2K   \u001b[90m━━━━━━━━━━━━━━━━━━━━━━━━━━━━━━━━━━━━━━━━\u001b[0m \u001b[32m3/3\u001b[0m [ray]\u001b[32m2/3\u001b[0m [ray]\n",
      "\u001b[1A\u001b[2KSuccessfully installed msgpack-1.1.1 protobuf-6.31.1 ray-2.47.0\n"
     ]
    }
   ],
   "source": [
    "!pip install ray"
   ]
  },
  {
   "cell_type": "code",
   "execution_count": 4,
   "id": "c44e312c-c2a9-48a0-a9fa-f4dce3eef3b3",
   "metadata": {
    "collapsed": true,
    "jupyter": {
     "outputs_hidden": true
    },
    "tags": []
   },
   "outputs": [
    {
     "name": "stdout",
     "output_type": "stream",
     "text": [
      "Requirement already satisfied: ray[train] in /opt/conda/lib/python3.11/site-packages (2.47.0)\n",
      "Requirement already satisfied: click>=7.0 in /opt/conda/lib/python3.11/site-packages (from ray[train]) (8.0.4)\n",
      "Requirement already satisfied: filelock in /opt/conda/lib/python3.11/site-packages (from ray[train]) (3.18.0)\n",
      "Requirement already satisfied: jsonschema in /opt/conda/lib/python3.11/site-packages (from ray[train]) (4.24.0)\n",
      "Requirement already satisfied: msgpack<2.0.0,>=1.0.0 in /opt/conda/lib/python3.11/site-packages (from ray[train]) (1.1.1)\n",
      "Requirement already satisfied: packaging in /opt/conda/lib/python3.11/site-packages (from ray[train]) (24.0)\n",
      "Requirement already satisfied: protobuf!=3.19.5,>=3.15.3 in /opt/conda/lib/python3.11/site-packages (from ray[train]) (6.31.1)\n",
      "Requirement already satisfied: pyyaml in /opt/conda/lib/python3.11/site-packages (from ray[train]) (6.0.2)\n",
      "Requirement already satisfied: requests in /opt/conda/lib/python3.11/site-packages (from ray[train]) (2.31.0)\n",
      "Requirement already satisfied: pandas in /opt/conda/lib/python3.11/site-packages (from ray[train]) (2.3.0)\n",
      "Collecting tensorboardX>=1.9 (from ray[train])\n",
      "  Using cached tensorboardx-2.6.4-py3-none-any.whl.metadata (6.2 kB)\n",
      "Collecting pyarrow>=9.0.0 (from ray[train])\n",
      "  Using cached pyarrow-20.0.0-cp311-cp311-manylinux_2_28_x86_64.whl.metadata (3.3 kB)\n",
      "Requirement already satisfied: fsspec in /opt/conda/lib/python3.11/site-packages (from ray[train]) (2025.5.1)\n",
      "Requirement already satisfied: pydantic!=2.0.*,!=2.1.*,!=2.2.*,!=2.3.*,!=2.4.*,<3 in /opt/conda/lib/python3.11/site-packages (from ray[train]) (2.11.5)\n",
      "Requirement already satisfied: annotated-types>=0.6.0 in /opt/conda/lib/python3.11/site-packages (from pydantic!=2.0.*,!=2.1.*,!=2.2.*,!=2.3.*,!=2.4.*,<3->ray[train]) (0.7.0)\n",
      "Requirement already satisfied: pydantic-core==2.33.2 in /opt/conda/lib/python3.11/site-packages (from pydantic!=2.0.*,!=2.1.*,!=2.2.*,!=2.3.*,!=2.4.*,<3->ray[train]) (2.33.2)\n",
      "Requirement already satisfied: typing-extensions>=4.12.2 in /opt/conda/lib/python3.11/site-packages (from pydantic!=2.0.*,!=2.1.*,!=2.2.*,!=2.3.*,!=2.4.*,<3->ray[train]) (4.14.0)\n",
      "Requirement already satisfied: typing-inspection>=0.4.0 in /opt/conda/lib/python3.11/site-packages (from pydantic!=2.0.*,!=2.1.*,!=2.2.*,!=2.3.*,!=2.4.*,<3->ray[train]) (0.4.1)\n",
      "Requirement already satisfied: numpy in /opt/conda/lib/python3.11/site-packages (from tensorboardX>=1.9->ray[train]) (1.26.4)\n",
      "Requirement already satisfied: attrs>=22.2.0 in /opt/conda/lib/python3.11/site-packages (from jsonschema->ray[train]) (25.3.0)\n",
      "Requirement already satisfied: jsonschema-specifications>=2023.03.6 in /opt/conda/lib/python3.11/site-packages (from jsonschema->ray[train]) (2025.4.1)\n",
      "Requirement already satisfied: referencing>=0.28.4 in /opt/conda/lib/python3.11/site-packages (from jsonschema->ray[train]) (0.36.2)\n",
      "Requirement already satisfied: rpds-py>=0.7.1 in /opt/conda/lib/python3.11/site-packages (from jsonschema->ray[train]) (0.25.1)\n",
      "Requirement already satisfied: python-dateutil>=2.8.2 in /opt/conda/lib/python3.11/site-packages (from pandas->ray[train]) (2.9.0.post0)\n",
      "Requirement already satisfied: pytz>=2020.1 in /opt/conda/lib/python3.11/site-packages (from pandas->ray[train]) (2025.2)\n",
      "Requirement already satisfied: tzdata>=2022.7 in /opt/conda/lib/python3.11/site-packages (from pandas->ray[train]) (2025.2)\n",
      "Requirement already satisfied: six>=1.5 in /opt/conda/lib/python3.11/site-packages (from python-dateutil>=2.8.2->pandas->ray[train]) (1.17.0)\n",
      "Requirement already satisfied: charset-normalizer<4,>=2 in /opt/conda/lib/python3.11/site-packages (from requests->ray[train]) (3.3.2)\n",
      "Requirement already satisfied: idna<4,>=2.5 in /opt/conda/lib/python3.11/site-packages (from requests->ray[train]) (3.10)\n",
      "Requirement already satisfied: urllib3<3,>=1.21.1 in /opt/conda/lib/python3.11/site-packages (from requests->ray[train]) (2.4.0)\n",
      "Requirement already satisfied: certifi>=2017.4.17 in /opt/conda/lib/python3.11/site-packages (from requests->ray[train]) (2025.4.26)\n",
      "Using cached pyarrow-20.0.0-cp311-cp311-manylinux_2_28_x86_64.whl (42.3 MB)\n",
      "Using cached tensorboardx-2.6.4-py3-none-any.whl (87 kB)\n",
      "Installing collected packages: tensorboardX, pyarrow\n",
      "\u001b[2K   \u001b[90m━━━━━━━━━━━━━━━━━━━━━━━━━━━━━━━━━━━━━━━━\u001b[0m \u001b[32m2/2\u001b[0m [pyarrow]m1/2\u001b[0m [pyarrow]\n",
      "\u001b[1A\u001b[2KSuccessfully installed pyarrow-20.0.0 tensorboardX-2.6.4\n"
     ]
    }
   ],
   "source": [
    "!pip install -U \"ray[train]\""
   ]
  },
  {
   "cell_type": "code",
   "execution_count": 5,
   "id": "d54253c7-b141-4068-a1a1-1af5335d437e",
   "metadata": {
    "tags": []
   },
   "outputs": [],
   "source": [
    "from ray.train import ScalingConfig"
   ]
  },
  {
   "cell_type": "code",
   "execution_count": 8,
   "id": "6bb1a149-63df-41a6-aaff-debbda3abbd0",
   "metadata": {
    "tags": []
   },
   "outputs": [],
   "source": [
    "# Single worker with a CPU\n",
    "scaling_config = ScalingConfig(num_workers=4, use_gpu=False)"
   ]
  },
  {
   "cell_type": "code",
   "execution_count": 9,
   "id": "af9376b2-6ddb-4ae4-9848-fb627cfaba03",
   "metadata": {
    "tags": []
   },
   "outputs": [],
   "source": [
    "class K_Means(object):\n",
    "    # Initialize input values n_clusters and max_iter   \n",
    "    def __init__(self, n_clusters, max_iter):\n",
    "        self.n_clusters = n_clusters\n",
    "        self.max_iter = max_iter\n",
    "\n",
    "    # Function that assigns points to a cluster\n",
    "    def assign_points_to_cluster(self, X):\n",
    "        # Label points according to the minimum euclidean distance\n",
    "        self.labels_ = [self._nearest(self.cluster_centers_, x) for x in X]\n",
    "        # Map labels to data points\n",
    "        indices=[]\n",
    "        for j in range(self.n_clusters):\n",
    "            cluster=[]\n",
    "            for i, l in enumerate(self.labels_):\n",
    "                if l==j: cluster.append(i)\n",
    "            indices.append(cluster)\n",
    "        X_by_cluster = [X[i] for i in indices]\n",
    "        return X_by_cluster\n",
    "    \n",
    "    # Function that randomly selects initial centroids\n",
    "    def initial_centroid(self, X):\n",
    "        initial = np.random.permutation(X.shape[0])[:self.n_clusters]\n",
    "        return X[initial]\n",
    "\n",
    "    # Function that updates centroids and repeats \n",
    "    # assign_points_to_cluster until convergence or max_iter is reached\n",
    "    def train_fun(self, X):  \n",
    "        # initialize centroids      \n",
    "        self.cluster_centers_ = self.initial_centroid(X)\n",
    "        # process of assigning points to clusters until convergence or until max_iter is reached\n",
    "        for i in range(self.max_iter):\n",
    "            X_by_cluster = self.assign_points_to_cluster(X)\n",
    "            # calculate the new centers \n",
    "            new_centers=[c.sum(axis=0)/len(c) for c in X_by_cluster]\n",
    "            new_centers = [arr.tolist() for arr in new_centers]\n",
    "            old_centers=self.cluster_centers_\n",
    "            # if the new centroid are the same as the old centroids then the algorithm has converged\n",
    "            if np.all(new_centers == old_centers): \n",
    "                self.number_of_iter=i\n",
    "                break;\n",
    "            else: \n",
    "                # set self.cluster_centers_ as new centers \n",
    "                self.cluster_centers_ = new_centers\n",
    "        self.number_of_iter=i\n",
    "        return self\n",
    "    \n",
    "    # Function that calculates the minimum euclidean distance\n",
    "    def _nearest(self, clusters, x):\n",
    "        return np.argmin([self._distance(x, c) for c in clusters])\n",
    "    \n",
    "    # Function to calculate euclidean distance between two points\n",
    "    def _distance(self, a, b):\n",
    "        return np.sqrt(((a - b)**2).sum())\n",
    "\n",
    "    # Function that returns predicted clusters for each point\n",
    "    def predict(self, X):\n",
    "        return self.labels_"
   ]
  },
  {
   "cell_type": "code",
   "execution_count": 17,
   "id": "0a50bec8-9006-4d86-a303-bcf8d665d370",
   "metadata": {
    "collapsed": true,
    "jupyter": {
     "outputs_hidden": true
    },
    "tags": []
   },
   "outputs": [
    {
     "name": "stderr",
     "output_type": "stream",
     "text": [
      "2025-06-16 14:28:51,702\tWARNING utils.py:592 -- Detecting docker specified CPUs. In previous versions of Ray, CPU detection in containers was incorrect. Please ensure that Ray has enough CPUs allocated. As a temporary workaround to revert to the prior behavior, set `RAY_USE_MULTIPROCESSING_CPU_COUNT=1` as an env var before starting Ray. Set the env var: `RAY_DISABLE_DOCKER_CPU_WARNING=1` to mute this warning.\n",
      "2025-06-16 14:28:51,703\tWARNING utils.py:604 -- Ray currently does not support initializing Ray with fractional cpus. Your num_cpus will be truncated from 3.6 to 3.\n",
      "2025-06-16 14:28:51,710\tWARNING services.py:2152 -- WARNING: The object store is using /tmp instead of /dev/shm because /dev/shm has only 4000002048 bytes available. This will harm performance! You may be able to free up space by deleting files in /dev/shm. If you are inside a Docker container, you can increase /dev/shm size by passing '--shm-size=8.69gb' to 'docker run' (or add it to the run_options list in a Ray cluster config). Make sure to set this to more than 30% of available RAM.\n",
      "2025-06-16 14:28:52,863\tINFO worker.py:1917 -- Started a local Ray instance.\n",
      "2025-06-16 14:28:53,866\tINFO tune.py:253 -- Initializing Ray automatically. For cluster usage or custom Ray initialization, call `ray.init(...)` before `<FrameworkTrainer>(...)`.\n",
      "2025-06-16 14:28:53,869\tINFO tune.py:616 -- [output] This uses the legacy output and progress reporter, as Jupyter notebooks are not supported by the new engine, yet. For more information, please see https://github.com/ray-project/ray/issues/36949\n"
     ]
    },
    {
     "name": "stdout",
     "output_type": "stream",
     "text": [
      "== Status ==\n",
      "Current time: 2025-06-16 14:28:54 (running for 00:00:00.11)\n",
      "Using FIFO scheduling algorithm.\n",
      "Logical resource usage: 0/3 CPUs, 0/0 GPUs\n",
      "Result logdir: /tmp/ray/session_2025-06-16_14-28-50_607097_415/artifacts/2025-06-16_14-28-53/TorchTrainer_2025-06-16_14-28-50/driver_artifacts\n",
      "Number of trials: 1/1 (1 PENDING)\n",
      "\n",
      "\n",
      "== Status ==\n",
      "Current time: 2025-06-16 14:28:59 (running for 00:00:05.13)\n",
      "Using FIFO scheduling algorithm.\n",
      "Logical resource usage: 0/3 CPUs, 0/0 GPUs\n",
      "Result logdir: /tmp/ray/session_2025-06-16_14-28-50_607097_415/artifacts/2025-06-16_14-28-53/TorchTrainer_2025-06-16_14-28-50/driver_artifacts\n",
      "Number of trials: 1/1 (1 PENDING)\n",
      "\n",
      "\n",
      "== Status ==\n",
      "Current time: 2025-06-16 14:29:04 (running for 00:00:10.15)\n",
      "Using FIFO scheduling algorithm.\n",
      "Logical resource usage: 0/3 CPUs, 0/0 GPUs\n",
      "Result logdir: /tmp/ray/session_2025-06-16_14-28-50_607097_415/artifacts/2025-06-16_14-28-53/TorchTrainer_2025-06-16_14-28-50/driver_artifacts\n",
      "Number of trials: 1/1 (1 PENDING)\n",
      "\n",
      "\n",
      "== Status ==\n",
      "Current time: 2025-06-16 14:29:09 (running for 00:00:15.17)\n",
      "Using FIFO scheduling algorithm.\n",
      "Logical resource usage: 0/3 CPUs, 0/0 GPUs\n",
      "Result logdir: /tmp/ray/session_2025-06-16_14-28-50_607097_415/artifacts/2025-06-16_14-28-53/TorchTrainer_2025-06-16_14-28-50/driver_artifacts\n",
      "Number of trials: 1/1 (1 PENDING)\n",
      "\n",
      "\n",
      "== Status ==\n",
      "Current time: 2025-06-16 14:29:14 (running for 00:00:20.20)\n",
      "Using FIFO scheduling algorithm.\n",
      "Logical resource usage: 0/3 CPUs, 0/0 GPUs\n",
      "Result logdir: /tmp/ray/session_2025-06-16_14-28-50_607097_415/artifacts/2025-06-16_14-28-53/TorchTrainer_2025-06-16_14-28-50/driver_artifacts\n",
      "Number of trials: 1/1 (1 PENDING)\n",
      "\n",
      "\n",
      "== Status ==\n",
      "Current time: 2025-06-16 14:29:19 (running for 00:00:25.21)\n",
      "Using FIFO scheduling algorithm.\n",
      "Logical resource usage: 0/3 CPUs, 0/0 GPUs\n",
      "Result logdir: /tmp/ray/session_2025-06-16_14-28-50_607097_415/artifacts/2025-06-16_14-28-53/TorchTrainer_2025-06-16_14-28-50/driver_artifacts\n",
      "Number of trials: 1/1 (1 PENDING)\n",
      "\n",
      "\n",
      "== Status ==\n",
      "Current time: 2025-06-16 14:29:24 (running for 00:00:30.24)\n",
      "Using FIFO scheduling algorithm.\n",
      "Logical resource usage: 0/3 CPUs, 0/0 GPUs\n",
      "Result logdir: /tmp/ray/session_2025-06-16_14-28-50_607097_415/artifacts/2025-06-16_14-28-53/TorchTrainer_2025-06-16_14-28-50/driver_artifacts\n",
      "Number of trials: 1/1 (1 PENDING)\n",
      "\n",
      "\n",
      "== Status ==\n",
      "Current time: 2025-06-16 14:29:29 (running for 00:00:35.26)\n",
      "Using FIFO scheduling algorithm.\n",
      "Logical resource usage: 0/3 CPUs, 0/0 GPUs\n",
      "Result logdir: /tmp/ray/session_2025-06-16_14-28-50_607097_415/artifacts/2025-06-16_14-28-53/TorchTrainer_2025-06-16_14-28-50/driver_artifacts\n",
      "Number of trials: 1/1 (1 PENDING)\n",
      "\n",
      "\n",
      "== Status ==\n",
      "Current time: 2025-06-16 14:29:34 (running for 00:00:40.28)\n",
      "Using FIFO scheduling algorithm.\n",
      "Logical resource usage: 0/3 CPUs, 0/0 GPUs\n",
      "Result logdir: /tmp/ray/session_2025-06-16_14-28-50_607097_415/artifacts/2025-06-16_14-28-53/TorchTrainer_2025-06-16_14-28-50/driver_artifacts\n",
      "Number of trials: 1/1 (1 PENDING)\n",
      "\n",
      "\n",
      "== Status ==\n",
      "Current time: 2025-06-16 14:29:39 (running for 00:00:45.30)\n",
      "Using FIFO scheduling algorithm.\n",
      "Logical resource usage: 0/3 CPUs, 0/0 GPUs\n",
      "Result logdir: /tmp/ray/session_2025-06-16_14-28-50_607097_415/artifacts/2025-06-16_14-28-53/TorchTrainer_2025-06-16_14-28-50/driver_artifacts\n",
      "Number of trials: 1/1 (1 PENDING)\n",
      "\n",
      "\n",
      "== Status ==\n",
      "Current time: 2025-06-16 14:29:44 (running for 00:00:50.32)\n",
      "Using FIFO scheduling algorithm.\n",
      "Logical resource usage: 0/3 CPUs, 0/0 GPUs\n",
      "Result logdir: /tmp/ray/session_2025-06-16_14-28-50_607097_415/artifacts/2025-06-16_14-28-53/TorchTrainer_2025-06-16_14-28-50/driver_artifacts\n",
      "Number of trials: 1/1 (1 PENDING)\n",
      "\n",
      "\n",
      "== Status ==\n",
      "Current time: 2025-06-16 14:29:49 (running for 00:00:55.34)\n",
      "Using FIFO scheduling algorithm.\n",
      "Logical resource usage: 0/3 CPUs, 0/0 GPUs\n",
      "Result logdir: /tmp/ray/session_2025-06-16_14-28-50_607097_415/artifacts/2025-06-16_14-28-53/TorchTrainer_2025-06-16_14-28-50/driver_artifacts\n",
      "Number of trials: 1/1 (1 PENDING)\n",
      "\n",
      "\n"
     ]
    },
    {
     "name": "stderr",
     "output_type": "stream",
     "text": [
      "2025-06-16 14:29:54,145\tWARNING insufficient_resources_manager.py:163 -- Ignore this message if the cluster is autoscaling. Training has not started in the last 60 seconds. This could be due to the cluster not having enough resources available. You asked for 5.0 CPUs and 0 GPUs, but the cluster only has 3.0 CPUs and 0 GPUs available. Stop the training and adjust the required resources (e.g. via the `ScalingConfig` or `resources_per_trial`, or `num_workers` for rllib), or add more resources to your cluster.\n"
     ]
    },
    {
     "name": "stdout",
     "output_type": "stream",
     "text": [
      "== Status ==\n",
      "Current time: 2025-06-16 14:29:54 (running for 00:01:00.36)\n",
      "Using FIFO scheduling algorithm.\n",
      "Logical resource usage: 0/3 CPUs, 0/0 GPUs\n",
      "Result logdir: /tmp/ray/session_2025-06-16_14-28-50_607097_415/artifacts/2025-06-16_14-28-53/TorchTrainer_2025-06-16_14-28-50/driver_artifacts\n",
      "Number of trials: 1/1 (1 PENDING)\n",
      "\n",
      "\n",
      "== Status ==\n",
      "Current time: 2025-06-16 14:29:59 (running for 00:01:05.38)\n",
      "Using FIFO scheduling algorithm.\n",
      "Logical resource usage: 0/3 CPUs, 0/0 GPUs\n",
      "Result logdir: /tmp/ray/session_2025-06-16_14-28-50_607097_415/artifacts/2025-06-16_14-28-53/TorchTrainer_2025-06-16_14-28-50/driver_artifacts\n",
      "Number of trials: 1/1 (1 PENDING)\n",
      "\n",
      "\n",
      "== Status ==\n",
      "Current time: 2025-06-16 14:30:04 (running for 00:01:10.41)\n",
      "Using FIFO scheduling algorithm.\n",
      "Logical resource usage: 0/3 CPUs, 0/0 GPUs\n",
      "Result logdir: /tmp/ray/session_2025-06-16_14-28-50_607097_415/artifacts/2025-06-16_14-28-53/TorchTrainer_2025-06-16_14-28-50/driver_artifacts\n",
      "Number of trials: 1/1 (1 PENDING)\n",
      "\n",
      "\n",
      "== Status ==\n",
      "Current time: 2025-06-16 14:30:09 (running for 00:01:15.43)\n",
      "Using FIFO scheduling algorithm.\n",
      "Logical resource usage: 0/3 CPUs, 0/0 GPUs\n",
      "Result logdir: /tmp/ray/session_2025-06-16_14-28-50_607097_415/artifacts/2025-06-16_14-28-53/TorchTrainer_2025-06-16_14-28-50/driver_artifacts\n",
      "Number of trials: 1/1 (1 PENDING)\n",
      "\n",
      "\n",
      "== Status ==\n",
      "Current time: 2025-06-16 14:30:14 (running for 00:01:20.45)\n",
      "Using FIFO scheduling algorithm.\n",
      "Logical resource usage: 0/3 CPUs, 0/0 GPUs\n",
      "Result logdir: /tmp/ray/session_2025-06-16_14-28-50_607097_415/artifacts/2025-06-16_14-28-53/TorchTrainer_2025-06-16_14-28-50/driver_artifacts\n",
      "Number of trials: 1/1 (1 PENDING)\n",
      "\n",
      "\n",
      "== Status ==\n",
      "Current time: 2025-06-16 14:30:19 (running for 00:01:25.47)\n",
      "Using FIFO scheduling algorithm.\n",
      "Logical resource usage: 0/3 CPUs, 0/0 GPUs\n",
      "Result logdir: /tmp/ray/session_2025-06-16_14-28-50_607097_415/artifacts/2025-06-16_14-28-53/TorchTrainer_2025-06-16_14-28-50/driver_artifacts\n",
      "Number of trials: 1/1 (1 PENDING)\n",
      "\n",
      "\n",
      "== Status ==\n",
      "Current time: 2025-06-16 14:30:24 (running for 00:01:30.49)\n",
      "Using FIFO scheduling algorithm.\n",
      "Logical resource usage: 0/3 CPUs, 0/0 GPUs\n",
      "Result logdir: /tmp/ray/session_2025-06-16_14-28-50_607097_415/artifacts/2025-06-16_14-28-53/TorchTrainer_2025-06-16_14-28-50/driver_artifacts\n",
      "Number of trials: 1/1 (1 PENDING)\n",
      "\n",
      "\n",
      "== Status ==\n",
      "Current time: 2025-06-16 14:30:29 (running for 00:01:35.51)\n",
      "Using FIFO scheduling algorithm.\n",
      "Logical resource usage: 0/3 CPUs, 0/0 GPUs\n",
      "Result logdir: /tmp/ray/session_2025-06-16_14-28-50_607097_415/artifacts/2025-06-16_14-28-53/TorchTrainer_2025-06-16_14-28-50/driver_artifacts\n",
      "Number of trials: 1/1 (1 PENDING)\n",
      "\n",
      "\n",
      "== Status ==\n",
      "Current time: 2025-06-16 14:30:34 (running for 00:01:40.53)\n",
      "Using FIFO scheduling algorithm.\n",
      "Logical resource usage: 0/3 CPUs, 0/0 GPUs\n",
      "Result logdir: /tmp/ray/session_2025-06-16_14-28-50_607097_415/artifacts/2025-06-16_14-28-53/TorchTrainer_2025-06-16_14-28-50/driver_artifacts\n",
      "Number of trials: 1/1 (1 PENDING)\n",
      "\n",
      "\n",
      "== Status ==\n",
      "Current time: 2025-06-16 14:30:39 (running for 00:01:45.55)\n",
      "Using FIFO scheduling algorithm.\n",
      "Logical resource usage: 0/3 CPUs, 0/0 GPUs\n",
      "Result logdir: /tmp/ray/session_2025-06-16_14-28-50_607097_415/artifacts/2025-06-16_14-28-53/TorchTrainer_2025-06-16_14-28-50/driver_artifacts\n",
      "Number of trials: 1/1 (1 PENDING)\n",
      "\n",
      "\n",
      "== Status ==\n",
      "Current time: 2025-06-16 14:30:44 (running for 00:01:50.57)\n",
      "Using FIFO scheduling algorithm.\n",
      "Logical resource usage: 0/3 CPUs, 0/0 GPUs\n",
      "Result logdir: /tmp/ray/session_2025-06-16_14-28-50_607097_415/artifacts/2025-06-16_14-28-53/TorchTrainer_2025-06-16_14-28-50/driver_artifacts\n",
      "Number of trials: 1/1 (1 PENDING)\n",
      "\n",
      "\n",
      "== Status ==\n",
      "Current time: 2025-06-16 14:30:49 (running for 00:01:55.59)\n",
      "Using FIFO scheduling algorithm.\n",
      "Logical resource usage: 0/3 CPUs, 0/0 GPUs\n",
      "Result logdir: /tmp/ray/session_2025-06-16_14-28-50_607097_415/artifacts/2025-06-16_14-28-53/TorchTrainer_2025-06-16_14-28-50/driver_artifacts\n",
      "Number of trials: 1/1 (1 PENDING)\n",
      "\n",
      "\n"
     ]
    },
    {
     "name": "stderr",
     "output_type": "stream",
     "text": [
      "2025-06-16 14:30:54,196\tWARNING insufficient_resources_manager.py:163 -- Ignore this message if the cluster is autoscaling. Training has not started in the last 60 seconds. This could be due to the cluster not having enough resources available. You asked for 5.0 CPUs and 0 GPUs, but the cluster only has 3.0 CPUs and 0 GPUs available. Stop the training and adjust the required resources (e.g. via the `ScalingConfig` or `resources_per_trial`, or `num_workers` for rllib), or add more resources to your cluster.\n"
     ]
    },
    {
     "name": "stdout",
     "output_type": "stream",
     "text": [
      "== Status ==\n",
      "Current time: 2025-06-16 14:30:54 (running for 00:02:00.61)\n",
      "Using FIFO scheduling algorithm.\n",
      "Logical resource usage: 0/3 CPUs, 0/0 GPUs\n",
      "Result logdir: /tmp/ray/session_2025-06-16_14-28-50_607097_415/artifacts/2025-06-16_14-28-53/TorchTrainer_2025-06-16_14-28-50/driver_artifacts\n",
      "Number of trials: 1/1 (1 PENDING)\n",
      "\n",
      "\n",
      "== Status ==\n",
      "Current time: 2025-06-16 14:30:59 (running for 00:02:05.63)\n",
      "Using FIFO scheduling algorithm.\n",
      "Logical resource usage: 0/3 CPUs, 0/0 GPUs\n",
      "Result logdir: /tmp/ray/session_2025-06-16_14-28-50_607097_415/artifacts/2025-06-16_14-28-53/TorchTrainer_2025-06-16_14-28-50/driver_artifacts\n",
      "Number of trials: 1/1 (1 PENDING)\n",
      "\n",
      "\n",
      "== Status ==\n",
      "Current time: 2025-06-16 14:31:04 (running for 00:02:10.65)\n",
      "Using FIFO scheduling algorithm.\n",
      "Logical resource usage: 0/3 CPUs, 0/0 GPUs\n",
      "Result logdir: /tmp/ray/session_2025-06-16_14-28-50_607097_415/artifacts/2025-06-16_14-28-53/TorchTrainer_2025-06-16_14-28-50/driver_artifacts\n",
      "Number of trials: 1/1 (1 PENDING)\n",
      "\n",
      "\n",
      "== Status ==\n",
      "Current time: 2025-06-16 14:31:09 (running for 00:02:15.67)\n",
      "Using FIFO scheduling algorithm.\n",
      "Logical resource usage: 0/3 CPUs, 0/0 GPUs\n",
      "Result logdir: /tmp/ray/session_2025-06-16_14-28-50_607097_415/artifacts/2025-06-16_14-28-53/TorchTrainer_2025-06-16_14-28-50/driver_artifacts\n",
      "Number of trials: 1/1 (1 PENDING)\n",
      "\n",
      "\n",
      "== Status ==\n",
      "Current time: 2025-06-16 14:31:14 (running for 00:02:20.70)\n",
      "Using FIFO scheduling algorithm.\n",
      "Logical resource usage: 0/3 CPUs, 0/0 GPUs\n",
      "Result logdir: /tmp/ray/session_2025-06-16_14-28-50_607097_415/artifacts/2025-06-16_14-28-53/TorchTrainer_2025-06-16_14-28-50/driver_artifacts\n",
      "Number of trials: 1/1 (1 PENDING)\n",
      "\n",
      "\n",
      "== Status ==\n",
      "Current time: 2025-06-16 14:31:19 (running for 00:02:25.72)\n",
      "Using FIFO scheduling algorithm.\n",
      "Logical resource usage: 0/3 CPUs, 0/0 GPUs\n",
      "Result logdir: /tmp/ray/session_2025-06-16_14-28-50_607097_415/artifacts/2025-06-16_14-28-53/TorchTrainer_2025-06-16_14-28-50/driver_artifacts\n",
      "Number of trials: 1/1 (1 PENDING)\n",
      "\n",
      "\n",
      "== Status ==\n",
      "Current time: 2025-06-16 14:31:24 (running for 00:02:30.74)\n",
      "Using FIFO scheduling algorithm.\n",
      "Logical resource usage: 0/3 CPUs, 0/0 GPUs\n",
      "Result logdir: /tmp/ray/session_2025-06-16_14-28-50_607097_415/artifacts/2025-06-16_14-28-53/TorchTrainer_2025-06-16_14-28-50/driver_artifacts\n",
      "Number of trials: 1/1 (1 PENDING)\n",
      "\n",
      "\n",
      "== Status ==\n",
      "Current time: 2025-06-16 14:31:29 (running for 00:02:35.76)\n",
      "Using FIFO scheduling algorithm.\n",
      "Logical resource usage: 0/3 CPUs, 0/0 GPUs\n",
      "Result logdir: /tmp/ray/session_2025-06-16_14-28-50_607097_415/artifacts/2025-06-16_14-28-53/TorchTrainer_2025-06-16_14-28-50/driver_artifacts\n",
      "Number of trials: 1/1 (1 PENDING)\n",
      "\n",
      "\n",
      "== Status ==\n",
      "Current time: 2025-06-16 14:31:34 (running for 00:02:40.78)\n",
      "Using FIFO scheduling algorithm.\n",
      "Logical resource usage: 0/3 CPUs, 0/0 GPUs\n",
      "Result logdir: /tmp/ray/session_2025-06-16_14-28-50_607097_415/artifacts/2025-06-16_14-28-53/TorchTrainer_2025-06-16_14-28-50/driver_artifacts\n",
      "Number of trials: 1/1 (1 PENDING)\n",
      "\n",
      "\n",
      "== Status ==\n",
      "Current time: 2025-06-16 14:31:39 (running for 00:02:45.80)\n",
      "Using FIFO scheduling algorithm.\n",
      "Logical resource usage: 0/3 CPUs, 0/0 GPUs\n",
      "Result logdir: /tmp/ray/session_2025-06-16_14-28-50_607097_415/artifacts/2025-06-16_14-28-53/TorchTrainer_2025-06-16_14-28-50/driver_artifacts\n",
      "Number of trials: 1/1 (1 PENDING)\n",
      "\n",
      "\n",
      "== Status ==\n",
      "Current time: 2025-06-16 14:31:44 (running for 00:02:50.82)\n",
      "Using FIFO scheduling algorithm.\n",
      "Logical resource usage: 0/3 CPUs, 0/0 GPUs\n",
      "Result logdir: /tmp/ray/session_2025-06-16_14-28-50_607097_415/artifacts/2025-06-16_14-28-53/TorchTrainer_2025-06-16_14-28-50/driver_artifacts\n",
      "Number of trials: 1/1 (1 PENDING)\n",
      "\n",
      "\n",
      "== Status ==\n",
      "Current time: 2025-06-16 14:31:49 (running for 00:02:55.84)\n",
      "Using FIFO scheduling algorithm.\n",
      "Logical resource usage: 0/3 CPUs, 0/0 GPUs\n",
      "Result logdir: /tmp/ray/session_2025-06-16_14-28-50_607097_415/artifacts/2025-06-16_14-28-53/TorchTrainer_2025-06-16_14-28-50/driver_artifacts\n",
      "Number of trials: 1/1 (1 PENDING)\n",
      "\n",
      "\n"
     ]
    },
    {
     "name": "stderr",
     "output_type": "stream",
     "text": [
      "2025-06-16 14:31:54,245\tWARNING insufficient_resources_manager.py:163 -- Ignore this message if the cluster is autoscaling. Training has not started in the last 60 seconds. This could be due to the cluster not having enough resources available. You asked for 5.0 CPUs and 0 GPUs, but the cluster only has 3.0 CPUs and 0 GPUs available. Stop the training and adjust the required resources (e.g. via the `ScalingConfig` or `resources_per_trial`, or `num_workers` for rllib), or add more resources to your cluster.\n"
     ]
    },
    {
     "name": "stdout",
     "output_type": "stream",
     "text": [
      "== Status ==\n",
      "Current time: 2025-06-16 14:31:54 (running for 00:03:00.86)\n",
      "Using FIFO scheduling algorithm.\n",
      "Logical resource usage: 0/3 CPUs, 0/0 GPUs\n",
      "Result logdir: /tmp/ray/session_2025-06-16_14-28-50_607097_415/artifacts/2025-06-16_14-28-53/TorchTrainer_2025-06-16_14-28-50/driver_artifacts\n",
      "Number of trials: 1/1 (1 PENDING)\n",
      "\n",
      "\n",
      "== Status ==\n",
      "Current time: 2025-06-16 14:31:59 (running for 00:03:05.88)\n",
      "Using FIFO scheduling algorithm.\n",
      "Logical resource usage: 0/3 CPUs, 0/0 GPUs\n",
      "Result logdir: /tmp/ray/session_2025-06-16_14-28-50_607097_415/artifacts/2025-06-16_14-28-53/TorchTrainer_2025-06-16_14-28-50/driver_artifacts\n",
      "Number of trials: 1/1 (1 PENDING)\n",
      "\n",
      "\n",
      "== Status ==\n",
      "Current time: 2025-06-16 14:32:04 (running for 00:03:10.91)\n",
      "Using FIFO scheduling algorithm.\n",
      "Logical resource usage: 0/3 CPUs, 0/0 GPUs\n",
      "Result logdir: /tmp/ray/session_2025-06-16_14-28-50_607097_415/artifacts/2025-06-16_14-28-53/TorchTrainer_2025-06-16_14-28-50/driver_artifacts\n",
      "Number of trials: 1/1 (1 PENDING)\n",
      "\n",
      "\n",
      "== Status ==\n",
      "Current time: 2025-06-16 14:32:09 (running for 00:03:15.92)\n",
      "Using FIFO scheduling algorithm.\n",
      "Logical resource usage: 0/3 CPUs, 0/0 GPUs\n",
      "Result logdir: /tmp/ray/session_2025-06-16_14-28-50_607097_415/artifacts/2025-06-16_14-28-53/TorchTrainer_2025-06-16_14-28-50/driver_artifacts\n",
      "Number of trials: 1/1 (1 PENDING)\n",
      "\n",
      "\n",
      "== Status ==\n",
      "Current time: 2025-06-16 14:32:14 (running for 00:03:20.95)\n",
      "Using FIFO scheduling algorithm.\n",
      "Logical resource usage: 0/3 CPUs, 0/0 GPUs\n",
      "Result logdir: /tmp/ray/session_2025-06-16_14-28-50_607097_415/artifacts/2025-06-16_14-28-53/TorchTrainer_2025-06-16_14-28-50/driver_artifacts\n",
      "Number of trials: 1/1 (1 PENDING)\n",
      "\n",
      "\n",
      "== Status ==\n",
      "Current time: 2025-06-16 14:32:19 (running for 00:03:25.97)\n",
      "Using FIFO scheduling algorithm.\n",
      "Logical resource usage: 0/3 CPUs, 0/0 GPUs\n",
      "Result logdir: /tmp/ray/session_2025-06-16_14-28-50_607097_415/artifacts/2025-06-16_14-28-53/TorchTrainer_2025-06-16_14-28-50/driver_artifacts\n",
      "Number of trials: 1/1 (1 PENDING)\n",
      "\n",
      "\n",
      "== Status ==\n",
      "Current time: 2025-06-16 14:32:24 (running for 00:03:30.99)\n",
      "Using FIFO scheduling algorithm.\n",
      "Logical resource usage: 0/3 CPUs, 0/0 GPUs\n",
      "Result logdir: /tmp/ray/session_2025-06-16_14-28-50_607097_415/artifacts/2025-06-16_14-28-53/TorchTrainer_2025-06-16_14-28-50/driver_artifacts\n",
      "Number of trials: 1/1 (1 PENDING)\n",
      "\n",
      "\n",
      "== Status ==\n",
      "Current time: 2025-06-16 14:32:29 (running for 00:03:36.01)\n",
      "Using FIFO scheduling algorithm.\n",
      "Logical resource usage: 0/3 CPUs, 0/0 GPUs\n",
      "Result logdir: /tmp/ray/session_2025-06-16_14-28-50_607097_415/artifacts/2025-06-16_14-28-53/TorchTrainer_2025-06-16_14-28-50/driver_artifacts\n",
      "Number of trials: 1/1 (1 PENDING)\n",
      "\n",
      "\n"
     ]
    },
    {
     "name": "stderr",
     "output_type": "stream",
     "text": [
      "2025-06-16 14:32:34,614\tWARNING tune.py:219 -- Stop signal received (e.g. via SIGINT/Ctrl+C), ending Ray Tune run. This will try to checkpoint the experiment state one last time. Press CTRL+C (or send SIGINT/SIGKILL/SIGTERM) to skip. \n",
      "2025-06-16 14:32:34,617\tINFO tune.py:1009 -- Wrote the latest version of all result files and experiment state to '/home/datascience/ray_results/TorchTrainer_2025-06-16_14-28-50' in 0.0024s.\n",
      "2025-06-16 14:32:34,618\tINFO tune.py:1041 -- Total run time: 220.75 seconds (220.73 seconds for the tuning loop).\n",
      "2025-06-16 14:32:34,619\tWARNING tune.py:1051 -- Training has been interrupted, but the most recent state was saved.\n",
      "Resume training with: <FrameworkTrainer>.restore(path=\"/home/datascience/ray_results/TorchTrainer_2025-06-16_14-28-50\", ...)\n",
      "2025-06-16 14:32:34,622\tWARNING experiment_analysis.py:180 -- Failed to fetch metrics for 1 trial(s):\n",
      "- TorchTrainer_3ac50_00000: FileNotFoundError('Could not fetch metrics for TorchTrainer_3ac50_00000: both result.json and progress.csv were not found at /home/datascience/ray_results/TorchTrainer_2025-06-16_14-28-50/TorchTrainer_3ac50_00000_0_2025-06-16_14-28-53')\n"
     ]
    },
    {
     "name": "stdout",
     "output_type": "stream",
     "text": [
      "== Status ==\n",
      "Current time: 2025-06-16 14:32:34 (running for 00:03:40.73)\n",
      "Using FIFO scheduling algorithm.\n",
      "Logical resource usage: 0/3 CPUs, 0/0 GPUs\n",
      "Result logdir: /tmp/ray/session_2025-06-16_14-28-50_607097_415/artifacts/2025-06-16_14-28-53/TorchTrainer_2025-06-16_14-28-50/driver_artifacts\n",
      "Number of trials: 1/1 (1 PENDING)\n",
      "\n",
      "\n",
      "temps 224.0276\n"
     ]
    }
   ],
   "source": [
    "from ray.train.torch import TorchTrainer\n",
    "import time\n",
    "kmeans = K_Means(n_clusters=2, max_iter=300)\n",
    "trainer = TorchTrainer(kmeans.train_fun, scaling_config=scaling_config)\n",
    "debut = time.time()\n",
    "trainer.fit()\n",
    "fin = time.time()\n",
    "print(f'temps {fin-debut:.4f}')"
   ]
  },
  {
   "cell_type": "code",
   "execution_count": 8,
   "id": "ad443ffd-7de8-49db-8eed-5eaeedf9536b",
   "metadata": {
    "tags": []
   },
   "outputs": [],
   "source": [
    "ray.shutdown()"
   ]
  },
  {
   "cell_type": "code",
   "execution_count": 9,
   "id": "4f9b9a1c-132c-44bc-b1d3-7cfdd7802b32",
   "metadata": {
    "tags": []
   },
   "outputs": [
    {
     "name": "stderr",
     "output_type": "stream",
     "text": [
      "2025-06-16 20:17:09,423\tWARNING services.py:2152 -- WARNING: The object store is using /tmp instead of /dev/shm because /dev/shm has only 4000002048 bytes available. This will harm performance! You may be able to free up space by deleting files in /dev/shm. If you are inside a Docker container, you can increase /dev/shm size by passing '--shm-size=8.43gb' to 'docker run' (or add it to the run_options list in a Ray cluster config). Make sure to set this to more than 30% of available RAM.\n",
      "2025-06-16 20:17:10,584\tINFO worker.py:1908 -- Started a local Ray instance. View the dashboard at \u001b[1m\u001b[32mhttp://10.1.30.200:8265 \u001b[39m\u001b[22m\n"
     ]
    },
    {
     "data": {
      "application/vnd.jupyter.widget-view+json": {
       "model_id": "a6bf0d05913248839848239a820b5801",
       "version_major": 2,
       "version_minor": 0
      },
      "text/html": [
       "<div class=\"lm-Widget p-Widget lm-Panel p-Panel jp-Cell-outputWrapper\">\n",
       "    <div style=\"margin-left: 50px;display: flex;flex-direction: row;align-items: center\">\n",
       "        <div class=\"jp-RenderedHTMLCommon\" style=\"display: flex; flex-direction: row;\">\n",
       "  <svg viewBox=\"0 0 567 224\" fill=\"none\" xmlns=\"http://www.w3.org/2000/svg\" style=\"height: 3em;\">\n",
       "    <g clip-path=\"url(#clip0_4338_178347)\">\n",
       "        <path d=\"M341.29 165.561H355.29L330.13 129.051C345.63 123.991 354.21 112.051 354.21 94.2307C354.21 71.3707 338.72 58.1807 311.88 58.1807H271V165.561H283.27V131.661H311.8C314.25 131.661 316.71 131.501 319.01 131.351L341.25 165.561H341.29ZM283.29 119.851V70.0007H311.82C331.3 70.0007 342.34 78.2907 342.34 94.5507C342.34 111.271 331.34 119.861 311.82 119.861L283.29 119.851ZM451.4 138.411L463.4 165.561H476.74L428.74 58.1807H416L367.83 165.561H380.83L392.83 138.411H451.4ZM446.19 126.601H398L422 72.1407L446.24 126.601H446.19ZM526.11 128.741L566.91 58.1807H554.35L519.99 114.181L485.17 58.1807H472.44L514.01 129.181V165.541H526.13V128.741H526.11Z\" fill=\"var(--jp-ui-font-color0)\"/>\n",
       "        <path d=\"M82.35 104.44C84.0187 97.8827 87.8248 92.0678 93.1671 87.9146C98.5094 83.7614 105.083 81.5067 111.85 81.5067C118.617 81.5067 125.191 83.7614 130.533 87.9146C135.875 92.0678 139.681 97.8827 141.35 104.44H163.75C164.476 101.562 165.622 98.8057 167.15 96.2605L127.45 56.5605C121.071 60.3522 113.526 61.6823 106.235 60.3005C98.9443 58.9187 92.4094 54.9203 87.8602 49.0574C83.3109 43.1946 81.0609 35.8714 81.5332 28.4656C82.0056 21.0599 85.1679 14.0819 90.4252 8.8446C95.6824 3.60726 102.672 0.471508 110.08 0.0272655C117.487 -0.416977 124.802 1.86091 130.647 6.4324C136.493 11.0039 140.467 17.5539 141.821 24.8501C143.175 32.1463 141.816 39.6859 138 46.0505L177.69 85.7505C182.31 82.9877 187.58 81.4995 192.962 81.4375C198.345 81.3755 203.648 82.742 208.33 85.3976C213.012 88.0532 216.907 91.9029 219.616 96.5544C222.326 101.206 223.753 106.492 223.753 111.875C223.753 117.258 222.326 122.545 219.616 127.197C216.907 131.848 213.012 135.698 208.33 138.353C203.648 141.009 198.345 142.375 192.962 142.313C187.58 142.251 182.31 140.763 177.69 138L138 177.7C141.808 184.071 143.155 191.614 141.79 198.91C140.424 206.205 136.44 212.75 130.585 217.313C124.731 221.875 117.412 224.141 110.004 223.683C102.596 223.226 95.6103 220.077 90.3621 214.828C85.1139 209.58 81.9647 202.595 81.5072 195.187C81.0497 187.779 83.3154 180.459 87.878 174.605C92.4405 168.751 98.9853 164.766 106.281 163.401C113.576 162.035 121.119 163.383 127.49 167.19L167.19 127.49C165.664 124.941 164.518 122.182 163.79 119.3H141.39C139.721 125.858 135.915 131.673 130.573 135.826C125.231 139.98 118.657 142.234 111.89 142.234C105.123 142.234 98.5494 139.98 93.2071 135.826C87.8648 131.673 84.0587 125.858 82.39 119.3H60C58.1878 126.495 53.8086 132.78 47.6863 136.971C41.5641 141.163 34.1211 142.972 26.7579 142.059C19.3947 141.146 12.6191 137.574 7.70605 132.014C2.79302 126.454 0.0813599 119.29 0.0813599 111.87C0.0813599 104.451 2.79302 97.2871 7.70605 91.7272C12.6191 86.1673 19.3947 82.5947 26.7579 81.6817C34.1211 80.7686 41.5641 82.5781 47.6863 86.7696C53.8086 90.9611 58.1878 97.2456 60 104.44H82.35ZM100.86 204.32C103.407 206.868 106.759 208.453 110.345 208.806C113.93 209.159 117.527 208.258 120.522 206.256C123.517 204.254 125.725 201.276 126.771 197.828C127.816 194.38 127.633 190.677 126.253 187.349C124.874 184.021 122.383 181.274 119.205 179.577C116.027 177.88 112.359 177.337 108.826 178.042C105.293 178.746 102.113 180.654 99.8291 183.44C97.5451 186.226 96.2979 189.718 96.3 193.32C96.2985 195.364 96.7006 197.388 97.4831 199.275C98.2656 201.163 99.4132 202.877 100.86 204.32ZM204.32 122.88C206.868 120.333 208.453 116.981 208.806 113.396C209.159 109.811 208.258 106.214 206.256 103.219C204.254 100.223 201.275 98.0151 197.827 96.97C194.38 95.9249 190.676 96.1077 187.348 97.4873C184.02 98.8669 181.274 101.358 179.577 104.536C177.879 107.714 177.337 111.382 178.041 114.915C178.746 118.448 180.653 121.627 183.439 123.911C186.226 126.195 189.717 127.443 193.32 127.44C195.364 127.443 197.388 127.042 199.275 126.259C201.163 125.476 202.878 124.328 204.32 122.88ZM122.88 19.4205C120.333 16.8729 116.981 15.2876 113.395 14.9347C109.81 14.5817 106.213 15.483 103.218 17.4849C100.223 19.4868 98.0146 22.4654 96.9696 25.9131C95.9245 29.3608 96.1073 33.0642 97.4869 36.3922C98.8665 39.7202 101.358 42.4668 104.535 44.1639C107.713 45.861 111.381 46.4036 114.914 45.6992C118.447 44.9949 121.627 43.0871 123.911 40.301C126.195 37.515 127.442 34.0231 127.44 30.4205C127.44 28.3772 127.038 26.3539 126.255 24.4664C125.473 22.5788 124.326 20.8642 122.88 19.4205ZM19.42 100.86C16.8725 103.408 15.2872 106.76 14.9342 110.345C14.5813 113.93 15.4826 117.527 17.4844 120.522C19.4863 123.518 22.4649 125.726 25.9127 126.771C29.3604 127.816 33.0638 127.633 36.3918 126.254C39.7198 124.874 42.4664 122.383 44.1635 119.205C45.8606 116.027 46.4032 112.359 45.6988 108.826C44.9944 105.293 43.0866 102.114 40.3006 99.8296C37.5145 97.5455 34.0227 96.2983 30.42 96.3005C26.2938 96.3018 22.337 97.9421 19.42 100.86ZM100.86 100.86C98.3125 103.408 96.7272 106.76 96.3742 110.345C96.0213 113.93 96.9226 117.527 98.9244 120.522C100.926 123.518 103.905 125.726 107.353 126.771C110.8 127.816 114.504 127.633 117.832 126.254C121.16 124.874 123.906 122.383 125.604 119.205C127.301 116.027 127.843 112.359 127.139 108.826C126.434 105.293 124.527 102.114 121.741 99.8296C118.955 97.5455 115.463 96.2983 111.86 96.3005C109.817 96.299 107.793 96.701 105.905 97.4835C104.018 98.2661 102.303 99.4136 100.86 100.86Z\" fill=\"#00AEEF\"/>\n",
       "    </g>\n",
       "    <defs>\n",
       "        <clipPath id=\"clip0_4338_178347\">\n",
       "            <rect width=\"566.93\" height=\"223.75\" fill=\"white\"/>\n",
       "        </clipPath>\n",
       "    </defs>\n",
       "  </svg>\n",
       "</div>\n",
       "\n",
       "        <table class=\"jp-RenderedHTMLCommon\" style=\"border-collapse: collapse;color: var(--jp-ui-font-color1);font-size: var(--jp-ui-font-size1);\">\n",
       "    <tr>\n",
       "        <td style=\"text-align: left\"><b>Python version:</b></td>\n",
       "        <td style=\"text-align: left\"><b>3.11.9</b></td>\n",
       "    </tr>\n",
       "    <tr>\n",
       "        <td style=\"text-align: left\"><b>Ray version:</b></td>\n",
       "        <td style=\"text-align: left\"><b>2.47.0</b></td>\n",
       "    </tr>\n",
       "    <tr>\n",
       "    <td style=\"text-align: left\"><b>Dashboard:</b></td>\n",
       "    <td style=\"text-align: left\"><b><a href=\"http://10.1.30.200:8265\" target=\"_blank\">http://10.1.30.200:8265</a></b></td>\n",
       "</tr>\n",
       "\n",
       "</table>\n",
       "\n",
       "    </div>\n",
       "</div>\n"
      ],
      "text/plain": [
       "RayContext(dashboard_url='10.1.30.200:8265', python_version='3.11.9', ray_version='2.47.0', ray_commit='6f4c0c0b3e9ff4fc485111adbbc613ade819548b')"
      ]
     },
     "execution_count": 9,
     "metadata": {},
     "output_type": "execute_result"
    }
   ],
   "source": [
    "import ray\n",
    "import joblib\n",
    "from ray.util.joblib import register_ray\n",
    "register_ray()\n",
    "ray.init(num_cpus = 4, include_dashboard=True, dashboard_host=\"0.0.0.0\", dashboard_port=8265)"
   ]
  },
  {
   "cell_type": "code",
   "execution_count": 10,
   "id": "83d80570-c5f6-495d-8ab1-c3f4bee77545",
   "metadata": {
    "collapsed": true,
    "jupyter": {
     "outputs_hidden": true
    },
    "tags": []
   },
   "outputs": [
    {
     "data": {
      "text/html": [
       "\n",
       "        <iframe\n",
       "            width=\"100%\"\n",
       "            height=\"600px\"\n",
       "            src=\"http://localhost:8265\"\n",
       "            frameborder=\"0\"\n",
       "            allowfullscreen\n",
       "            \n",
       "        ></iframe>\n",
       "        "
      ],
      "text/plain": [
       "<IPython.lib.display.IFrame at 0x7f19702b4ed0>"
      ]
     },
     "execution_count": 10,
     "metadata": {},
     "output_type": "execute_result"
    }
   ],
   "source": [
    "import IPython.display\n",
    "IPython.display.IFrame(src=\"http://localhost:8265\", width=\"100%\", height=\"600px\")"
   ]
  },
  {
   "cell_type": "code",
   "execution_count": 11,
   "id": "2f41ca9d-3154-4179-9ec4-91459419555d",
   "metadata": {
    "tags": []
   },
   "outputs": [
    {
     "data": {
      "text/html": [
       "<a href='http://localhost:8265' target='_blank'>Open Ray Dashboard</a>"
      ],
      "text/plain": [
       "<IPython.core.display.HTML object>"
      ]
     },
     "metadata": {},
     "output_type": "display_data"
    }
   ],
   "source": [
    "from IPython.display import display, HTML\n",
    "\n",
    "display(HTML(\"<a href='http://localhost:8265' target='_blank'>Open Ray Dashboard</a>\"))\n"
   ]
  },
  {
   "cell_type": "code",
   "execution_count": 13,
   "id": "282a9399-89e1-45aa-ba36-bcae702109ee",
   "metadata": {
    "tags": []
   },
   "outputs": [
    {
     "name": "stdout",
     "output_type": "stream",
     "text": [
      "Try: http://172.19.0.2:8265\n"
     ]
    }
   ],
   "source": [
    "import socket\n",
    "ip = socket.gethostbyname(socket.gethostname())\n",
    "print(f\"Try: http://172.19.0.2:8265\")\n"
   ]
  },
  {
   "cell_type": "code",
   "execution_count": 14,
   "id": "b4773386-56b5-4f84-996f-0ea92845a19d",
   "metadata": {
    "tags": []
   },
   "outputs": [
    {
     "data": {
      "text/html": [
       "\n",
       "        <iframe\n",
       "            width=\"100%\"\n",
       "            height=\"600px\"\n",
       "            src=\"http://172.19.0.2:8265\"\n",
       "            frameborder=\"0\"\n",
       "            allowfullscreen\n",
       "            \n",
       "        ></iframe>\n",
       "        "
      ],
      "text/plain": [
       "<IPython.lib.display.IFrame at 0x7f199347b390>"
      ]
     },
     "execution_count": 14,
     "metadata": {},
     "output_type": "execute_result"
    }
   ],
   "source": [
    "IPython.display.IFrame(src=f\"http://172.19.0.2:8265\", width=\"100%\", height=\"600px\")\n"
   ]
  },
  {
   "cell_type": "code",
   "execution_count": 32,
   "id": "6bb6d6af-bc79-40c8-89d1-074477d4af67",
   "metadata": {
    "tags": []
   },
   "outputs": [
    {
     "data": {
      "text/plain": [
       "{'object_store_memory': 8476622438.0,\n",
       " 'CPU': 4.0,\n",
       " 'node:__internal_head__': 1.0,\n",
       " 'node:10.1.57.93': 1.0,\n",
       " 'memory': 19778785690.0}"
      ]
     },
     "execution_count": 32,
     "metadata": {},
     "output_type": "execute_result"
    }
   ],
   "source": [
    "ray.available_resources()"
   ]
  },
  {
   "cell_type": "code",
   "execution_count": 12,
   "id": "02d95cf8-ebbe-450e-b4c1-ce8d4f7a72e3",
   "metadata": {
    "tags": []
   },
   "outputs": [
    {
     "name": "stdout",
     "output_type": "stream",
     "text": [
      "Private IP: 172.19.0.2\n"
     ]
    }
   ],
   "source": [
    "import socket\n",
    "ip = socket.gethostbyname(socket.gethostname())\n",
    "print(\"Private IP:\", ip)"
   ]
  },
  {
   "cell_type": "code",
   "execution_count": 28,
   "id": "adc40748-d365-4a2f-899a-d8763532b21a",
   "metadata": {
    "tags": []
   },
   "outputs": [
    {
     "name": "stdout",
     "output_type": "stream",
     "text": [
      "temps 84.7770\n"
     ]
    }
   ],
   "source": [
    "debut = time.time()\n",
    "with joblib.parallel_backend('ray'):\n",
    "    kmeans.train_fun(fraud3)\n",
    "fin = time.time()\n",
    "print(f'temps {fin-debut:.4f}')"
   ]
  },
  {
   "cell_type": "code",
   "execution_count": 36,
   "id": "f718afc9-1116-4821-ba23-ce2336e26e7a",
   "metadata": {
    "tags": []
   },
   "outputs": [
    {
     "name": "stdout",
     "output_type": "stream",
     "text": [
      "Elapsed time (via timeit): 60.3603 seconds\n"
     ]
    }
   ],
   "source": [
    "import timeit\n",
    "def run_kmeans():\n",
    "    with joblib.parallel_backend('ray'):\n",
    "        kmeans.train_fun(fraud3)\n",
    "\n",
    "# Time it using timeit (default is 1 million loops, so set number=1 or more reasonably)\n",
    "duration = timeit.timeit(run_kmeans, number=1)\n",
    "print(f\"Elapsed time (via timeit): {duration:.4f} seconds\")"
   ]
  },
  {
   "cell_type": "code",
   "execution_count": 29,
   "id": "bdba6548-eeef-4008-8869-e9b5bcc94e16",
   "metadata": {
    "tags": []
   },
   "outputs": [
    {
     "data": {
      "text/plain": [
       "250000"
      ]
     },
     "execution_count": 29,
     "metadata": {},
     "output_type": "execute_result"
    }
   ],
   "source": [
    "len(fraud3)"
   ]
  },
  {
   "cell_type": "code",
   "execution_count": 7,
   "id": "34cea290-5f4e-4785-9c3e-a31c0692ba5d",
   "metadata": {
    "collapsed": true,
    "jupyter": {
     "outputs_hidden": true
    },
    "tags": []
   },
   "outputs": [
    {
     "name": "stdout",
     "output_type": "stream",
     "text": [
      "Requirement already satisfied: ray[default] in /opt/conda/lib/python3.11/site-packages (2.47.0)\n",
      "Requirement already satisfied: click>=7.0 in /opt/conda/lib/python3.11/site-packages (from ray[default]) (8.0.4)\n",
      "Requirement already satisfied: filelock in /opt/conda/lib/python3.11/site-packages (from ray[default]) (3.18.0)\n",
      "Requirement already satisfied: jsonschema in /opt/conda/lib/python3.11/site-packages (from ray[default]) (4.24.0)\n",
      "Requirement already satisfied: msgpack<2.0.0,>=1.0.0 in /opt/conda/lib/python3.11/site-packages (from ray[default]) (1.1.1)\n",
      "Requirement already satisfied: packaging in /opt/conda/lib/python3.11/site-packages (from ray[default]) (24.0)\n",
      "Requirement already satisfied: protobuf!=3.19.5,>=3.15.3 in /opt/conda/lib/python3.11/site-packages (from ray[default]) (6.31.1)\n",
      "Requirement already satisfied: pyyaml in /opt/conda/lib/python3.11/site-packages (from ray[default]) (6.0.2)\n",
      "Requirement already satisfied: requests in /opt/conda/lib/python3.11/site-packages (from ray[default]) (2.31.0)\n",
      "Requirement already satisfied: aiohttp>=3.7 in /opt/conda/lib/python3.11/site-packages (from ray[default]) (3.12.9)\n",
      "Collecting aiohttp_cors (from ray[default])\n",
      "  Using cached aiohttp_cors-0.8.1-py3-none-any.whl.metadata (20 kB)\n",
      "Collecting colorful (from ray[default])\n",
      "  Using cached colorful-0.5.6-py2.py3-none-any.whl.metadata (16 kB)\n",
      "Collecting py-spy>=0.2.0 (from ray[default])\n",
      "  Using cached py_spy-0.4.0-py2.py3-none-manylinux_2_5_x86_64.manylinux1_x86_64.whl.metadata (16 kB)\n",
      "Collecting grpcio>=1.42.0 (from ray[default])\n",
      "  Using cached grpcio-1.73.0-cp311-cp311-manylinux_2_17_x86_64.manylinux2014_x86_64.whl.metadata (3.8 kB)\n",
      "Collecting opencensus (from ray[default])\n",
      "  Using cached opencensus-0.11.4-py2.py3-none-any.whl.metadata (12 kB)\n",
      "Collecting opentelemetry-sdk (from ray[default])\n",
      "  Using cached opentelemetry_sdk-1.34.1-py3-none-any.whl.metadata (1.6 kB)\n",
      "Collecting opentelemetry-exporter-prometheus (from ray[default])\n",
      "  Using cached opentelemetry_exporter_prometheus-0.55b1-py3-none-any.whl.metadata (1.9 kB)\n",
      "Collecting opentelemetry-proto (from ray[default])\n",
      "  Using cached opentelemetry_proto-1.34.1-py3-none-any.whl.metadata (2.4 kB)\n",
      "Requirement already satisfied: pydantic!=2.0.*,!=2.1.*,!=2.2.*,!=2.3.*,!=2.4.*,<3 in /opt/conda/lib/python3.11/site-packages (from ray[default]) (2.11.5)\n",
      "Requirement already satisfied: prometheus_client>=0.7.1 in /opt/conda/lib/python3.11/site-packages (from ray[default]) (0.22.1)\n",
      "Collecting smart_open (from ray[default])\n",
      "  Using cached smart_open-7.1.0-py3-none-any.whl.metadata (24 kB)\n",
      "Collecting virtualenv!=20.21.1,>=20.0.24 (from ray[default])\n",
      "  Using cached virtualenv-20.31.2-py3-none-any.whl.metadata (4.5 kB)\n",
      "Requirement already satisfied: annotated-types>=0.6.0 in /opt/conda/lib/python3.11/site-packages (from pydantic!=2.0.*,!=2.1.*,!=2.2.*,!=2.3.*,!=2.4.*,<3->ray[default]) (0.7.0)\n",
      "Requirement already satisfied: pydantic-core==2.33.2 in /opt/conda/lib/python3.11/site-packages (from pydantic!=2.0.*,!=2.1.*,!=2.2.*,!=2.3.*,!=2.4.*,<3->ray[default]) (2.33.2)\n",
      "Requirement already satisfied: typing-extensions>=4.12.2 in /opt/conda/lib/python3.11/site-packages (from pydantic!=2.0.*,!=2.1.*,!=2.2.*,!=2.3.*,!=2.4.*,<3->ray[default]) (4.14.0)\n",
      "Requirement already satisfied: typing-inspection>=0.4.0 in /opt/conda/lib/python3.11/site-packages (from pydantic!=2.0.*,!=2.1.*,!=2.2.*,!=2.3.*,!=2.4.*,<3->ray[default]) (0.4.1)\n",
      "Requirement already satisfied: aiohappyeyeballs>=2.5.0 in /opt/conda/lib/python3.11/site-packages (from aiohttp>=3.7->ray[default]) (2.6.1)\n",
      "Requirement already satisfied: aiosignal>=1.1.2 in /opt/conda/lib/python3.11/site-packages (from aiohttp>=3.7->ray[default]) (1.3.2)\n",
      "Requirement already satisfied: attrs>=17.3.0 in /opt/conda/lib/python3.11/site-packages (from aiohttp>=3.7->ray[default]) (25.3.0)\n",
      "Requirement already satisfied: frozenlist>=1.1.1 in /opt/conda/lib/python3.11/site-packages (from aiohttp>=3.7->ray[default]) (1.6.2)\n",
      "Requirement already satisfied: multidict<7.0,>=4.5 in /opt/conda/lib/python3.11/site-packages (from aiohttp>=3.7->ray[default]) (6.4.4)\n",
      "Requirement already satisfied: propcache>=0.2.0 in /opt/conda/lib/python3.11/site-packages (from aiohttp>=3.7->ray[default]) (0.3.1)\n",
      "Requirement already satisfied: yarl<2.0,>=1.17.0 in /opt/conda/lib/python3.11/site-packages (from aiohttp>=3.7->ray[default]) (1.20.0)\n",
      "Requirement already satisfied: idna>=2.0 in /opt/conda/lib/python3.11/site-packages (from yarl<2.0,>=1.17.0->aiohttp>=3.7->ray[default]) (3.10)\n",
      "Collecting distlib<1,>=0.3.7 (from virtualenv!=20.21.1,>=20.0.24->ray[default])\n",
      "  Using cached distlib-0.3.9-py2.py3-none-any.whl.metadata (5.2 kB)\n",
      "Requirement already satisfied: platformdirs<5,>=3.9.1 in /opt/conda/lib/python3.11/site-packages (from virtualenv!=20.21.1,>=20.0.24->ray[default]) (4.2.0)\n",
      "Requirement already satisfied: jsonschema-specifications>=2023.03.6 in /opt/conda/lib/python3.11/site-packages (from jsonschema->ray[default]) (2025.4.1)\n",
      "Requirement already satisfied: referencing>=0.28.4 in /opt/conda/lib/python3.11/site-packages (from jsonschema->ray[default]) (0.36.2)\n",
      "Requirement already satisfied: rpds-py>=0.7.1 in /opt/conda/lib/python3.11/site-packages (from jsonschema->ray[default]) (0.25.1)\n",
      "Collecting opencensus-context>=0.1.3 (from opencensus->ray[default])\n",
      "  Using cached opencensus_context-0.1.3-py2.py3-none-any.whl.metadata (3.3 kB)\n",
      "Requirement already satisfied: six~=1.16 in /opt/conda/lib/python3.11/site-packages (from opencensus->ray[default]) (1.17.0)\n",
      "Collecting google-api-core<3.0.0,>=1.0.0 (from opencensus->ray[default])\n",
      "  Using cached google_api_core-2.25.1-py3-none-any.whl.metadata (3.0 kB)\n",
      "Collecting googleapis-common-protos<2.0.0,>=1.56.2 (from google-api-core<3.0.0,>=1.0.0->opencensus->ray[default])\n",
      "  Using cached googleapis_common_protos-1.70.0-py3-none-any.whl.metadata (9.3 kB)\n",
      "Collecting proto-plus<2.0.0,>=1.22.3 (from google-api-core<3.0.0,>=1.0.0->opencensus->ray[default])\n",
      "  Using cached proto_plus-1.26.1-py3-none-any.whl.metadata (2.2 kB)\n",
      "Collecting google-auth<3.0.0,>=2.14.1 (from google-api-core<3.0.0,>=1.0.0->opencensus->ray[default])\n",
      "  Using cached google_auth-2.40.3-py2.py3-none-any.whl.metadata (6.2 kB)\n",
      "Collecting cachetools<6.0,>=2.0.0 (from google-auth<3.0.0,>=2.14.1->google-api-core<3.0.0,>=1.0.0->opencensus->ray[default])\n",
      "  Using cached cachetools-5.5.2-py3-none-any.whl.metadata (5.4 kB)\n",
      "Collecting pyasn1-modules>=0.2.1 (from google-auth<3.0.0,>=2.14.1->google-api-core<3.0.0,>=1.0.0->opencensus->ray[default])\n",
      "  Using cached pyasn1_modules-0.4.2-py3-none-any.whl.metadata (3.5 kB)\n",
      "Collecting rsa<5,>=3.1.4 (from google-auth<3.0.0,>=2.14.1->google-api-core<3.0.0,>=1.0.0->opencensus->ray[default])\n",
      "  Using cached rsa-4.9.1-py3-none-any.whl.metadata (5.6 kB)\n",
      "Requirement already satisfied: charset-normalizer<4,>=2 in /opt/conda/lib/python3.11/site-packages (from requests->ray[default]) (3.3.2)\n",
      "Requirement already satisfied: urllib3<3,>=1.21.1 in /opt/conda/lib/python3.11/site-packages (from requests->ray[default]) (2.4.0)\n",
      "Requirement already satisfied: certifi>=2017.4.17 in /opt/conda/lib/python3.11/site-packages (from requests->ray[default]) (2025.4.26)\n",
      "Collecting pyasn1>=0.1.3 (from rsa<5,>=3.1.4->google-auth<3.0.0,>=2.14.1->google-api-core<3.0.0,>=1.0.0->opencensus->ray[default])\n",
      "  Using cached pyasn1-0.6.1-py3-none-any.whl.metadata (8.4 kB)\n",
      "Collecting opentelemetry-api~=1.12 (from opentelemetry-exporter-prometheus->ray[default])\n",
      "  Using cached opentelemetry_api-1.34.1-py3-none-any.whl.metadata (1.5 kB)\n",
      "Requirement already satisfied: importlib-metadata<8.8.0,>=6.0 in /opt/conda/lib/python3.11/site-packages (from opentelemetry-api~=1.12->opentelemetry-exporter-prometheus->ray[default]) (8.7.0)\n",
      "Requirement already satisfied: zipp>=3.20 in /opt/conda/lib/python3.11/site-packages (from importlib-metadata<8.8.0,>=6.0->opentelemetry-api~=1.12->opentelemetry-exporter-prometheus->ray[default]) (3.22.0)\n",
      "Collecting opentelemetry-semantic-conventions==0.55b1 (from opentelemetry-sdk->ray[default])\n",
      "  Using cached opentelemetry_semantic_conventions-0.55b1-py3-none-any.whl.metadata (2.5 kB)\n",
      "Collecting protobuf!=3.19.5,>=3.15.3 (from ray[default])\n",
      "  Using cached protobuf-5.29.5-cp38-abi3-manylinux2014_x86_64.whl.metadata (592 bytes)\n",
      "Collecting wrapt (from smart_open->ray[default])\n",
      "  Using cached wrapt-1.17.2-cp311-cp311-manylinux_2_5_x86_64.manylinux1_x86_64.manylinux_2_17_x86_64.manylinux2014_x86_64.whl.metadata (6.4 kB)\n",
      "Using cached grpcio-1.73.0-cp311-cp311-manylinux_2_17_x86_64.manylinux2014_x86_64.whl (6.0 MB)\n",
      "Using cached py_spy-0.4.0-py2.py3-none-manylinux_2_5_x86_64.manylinux1_x86_64.whl (2.7 MB)\n",
      "Using cached virtualenv-20.31.2-py3-none-any.whl (6.1 MB)\n",
      "Using cached distlib-0.3.9-py2.py3-none-any.whl (468 kB)\n",
      "Using cached aiohttp_cors-0.8.1-py3-none-any.whl (25 kB)\n",
      "Using cached colorful-0.5.6-py2.py3-none-any.whl (201 kB)\n",
      "Using cached opencensus-0.11.4-py2.py3-none-any.whl (128 kB)\n",
      "Using cached google_api_core-2.25.1-py3-none-any.whl (160 kB)\n",
      "Using cached google_auth-2.40.3-py2.py3-none-any.whl (216 kB)\n",
      "Using cached cachetools-5.5.2-py3-none-any.whl (10 kB)\n",
      "Using cached googleapis_common_protos-1.70.0-py3-none-any.whl (294 kB)\n",
      "Using cached proto_plus-1.26.1-py3-none-any.whl (50 kB)\n",
      "Using cached rsa-4.9.1-py3-none-any.whl (34 kB)\n",
      "Using cached opencensus_context-0.1.3-py2.py3-none-any.whl (5.1 kB)\n",
      "Using cached pyasn1-0.6.1-py3-none-any.whl (83 kB)\n",
      "Using cached pyasn1_modules-0.4.2-py3-none-any.whl (181 kB)\n",
      "Using cached opentelemetry_exporter_prometheus-0.55b1-py3-none-any.whl (12 kB)\n",
      "Using cached opentelemetry_api-1.34.1-py3-none-any.whl (65 kB)\n",
      "Using cached opentelemetry_sdk-1.34.1-py3-none-any.whl (118 kB)\n",
      "Using cached opentelemetry_semantic_conventions-0.55b1-py3-none-any.whl (196 kB)\n",
      "Using cached opentelemetry_proto-1.34.1-py3-none-any.whl (55 kB)\n",
      "Using cached protobuf-5.29.5-cp38-abi3-manylinux2014_x86_64.whl (319 kB)\n",
      "Using cached smart_open-7.1.0-py3-none-any.whl (61 kB)\n",
      "Using cached wrapt-1.17.2-cp311-cp311-manylinux_2_5_x86_64.manylinux1_x86_64.manylinux_2_17_x86_64.manylinux2014_x86_64.whl (83 kB)\n",
      "Installing collected packages: py-spy, opencensus-context, distlib, colorful, wrapt, virtualenv, pyasn1, protobuf, grpcio, cachetools, smart_open, rsa, pyasn1-modules, proto-plus, opentelemetry-proto, opentelemetry-api, googleapis-common-protos, opentelemetry-semantic-conventions, google-auth, aiohttp_cors, opentelemetry-sdk, google-api-core, opentelemetry-exporter-prometheus, opencensus\n",
      "\u001b[2K  Attempting uninstall: protobuf\u001b[90m━━━━━━━━━━━━━━━━━━━━━━━━━━━━━\u001b[0m \u001b[32m 6/24\u001b[0m [pyasn1]\n",
      "\u001b[2K    Found existing installation: protobuf 6.31.1━━━━━━━━━━━━━━\u001b[0m \u001b[32m 6/24\u001b[0m [pyasn1]\n",
      "\u001b[2K    Uninstalling protobuf-6.31.1:━━━━━━━━━━━━━━━━━━━━━━━━━━━━━\u001b[0m \u001b[32m 6/24\u001b[0m [pyasn1]\n",
      "\u001b[2K      Successfully uninstalled protobuf-6.31.1━━━━━━━━━━━━━━━━\u001b[0m \u001b[32m 6/24\u001b[0m [pyasn1]\n",
      "\u001b[2K  Attempting uninstall: cachetoolsm\u001b[90m━━━━━━━━━━━━━━━━━━━━━━━━━━\u001b[0m \u001b[32m 8/24\u001b[0m [grpcio]\n",
      "\u001b[2K    Found existing installation: cachetools 6.0.0━━━━━━━━━━━━━\u001b[0m \u001b[32m 8/24\u001b[0m [grpcio]\n",
      "\u001b[2K    Uninstalling cachetools-6.0.0:0m━━━━━━━━━━━━━━━━━━━━━━━━━━\u001b[0m \u001b[32m 8/24\u001b[0m [grpcio]\n",
      "\u001b[2K      Successfully uninstalled cachetools-6.0.0━━━━━━━━━━━━━━━\u001b[0m \u001b[32m 8/24\u001b[0m [grpcio]\n",
      "\u001b[2K   \u001b[90m━━━━━━━━━━━━━━━━━━━━━━━━━━━━━━━━━━━━━━━━\u001b[0m \u001b[32m24/24\u001b[0m [opencensus]4\u001b[0m [google-api-core]n-protos]\n",
      "\u001b[1A\u001b[2KSuccessfully installed aiohttp_cors-0.8.1 cachetools-5.5.2 colorful-0.5.6 distlib-0.3.9 google-api-core-2.25.1 google-auth-2.40.3 googleapis-common-protos-1.70.0 grpcio-1.73.0 opencensus-0.11.4 opencensus-context-0.1.3 opentelemetry-api-1.34.1 opentelemetry-exporter-prometheus-0.55b1 opentelemetry-proto-1.34.1 opentelemetry-sdk-1.34.1 opentelemetry-semantic-conventions-0.55b1 proto-plus-1.26.1 protobuf-5.29.5 py-spy-0.4.0 pyasn1-0.6.1 pyasn1-modules-0.4.2 rsa-4.9.1 smart_open-7.1.0 virtualenv-20.31.2 wrapt-1.17.2\n",
      "Note: you may need to restart the kernel to use updated packages.\n"
     ]
    }
   ],
   "source": [
    "pip install \"ray[default]\"  # [default] pulls in the dashboard dependencies\n"
   ]
  },
  {
   "cell_type": "code",
   "execution_count": 42,
   "id": "d629226d-f87e-4bc2-b3c6-2140cca8a470",
   "metadata": {
    "tags": []
   },
   "outputs": [
    {
     "name": "stdout",
     "output_type": "stream",
     "text": [
      "150.230.128.189"
     ]
    }
   ],
   "source": [
    "!curl ifconfig.me\n"
   ]
  },
  {
   "cell_type": "code",
   "execution_count": 51,
   "id": "ca0d40ab-7530-4ac0-add7-d5115aab777e",
   "metadata": {
    "tags": []
   },
   "outputs": [
    {
     "name": "stdout",
     "output_type": "stream",
     "text": [
      "Warning: Identity file SHA256:axZLXoDe0h3lp7VCuLaCFfmhzpZpjAHL8uV+TWjuSvo not accessible: No such file or directory.\n",
      "^C\n"
     ]
    }
   ],
   "source": [
    "!ssh -i SHA256:axZLXoDe0h3lp7VCuLaCFfmhzpZpjAHL8uV+TWjuSvo datascience@1796be48b5c1 opc@150.230.128.189\n",
    "\n"
   ]
  },
  {
   "cell_type": "code",
   "execution_count": 47,
   "id": "1b7d45e5-7962-4463-a1a5-1f55fd46ee4e",
   "metadata": {
    "tags": []
   },
   "outputs": [
    {
     "name": "stdout",
     "output_type": "stream",
     "text": [
      "Generating public/private rsa key pair.\n",
      "^C\n"
     ]
    }
   ],
   "source": [
    "!ssh-keygen -t rsa -b 4096 -f ~/.ssh/my_key.pem\n"
   ]
  },
  {
   "cell_type": "code",
   "execution_count": 53,
   "id": "aa195038-6509-44c2-85aa-a56d5bab7879",
   "metadata": {
    "tags": []
   },
   "outputs": [
    {
     "name": "stdout",
     "output_type": "stream",
     "text": [
      "/bin/bash: ssh-rsa: command not found\n"
     ]
    }
   ],
   "source": [
    "!ssh-rsa SHA256:axZLXoDe0h3lp7VCuLaCFfmhzpZpjAHL8uV+TWjuSvo datascience@1796be48b5c1\n"
   ]
  },
  {
   "cell_type": "code",
   "execution_count": 54,
   "id": "8bed862b-8874-4044-b52e-4697c21b3ab0",
   "metadata": {
    "tags": []
   },
   "outputs": [
    {
     "name": "stdout",
     "output_type": "stream",
     "text": [
      "^C\n"
     ]
    }
   ],
   "source": [
    "!ssh -i ~/.ssh/my_key.pem opc@150.230.128.189"
   ]
  },
  {
   "cell_type": "code",
   "execution_count": 55,
   "id": "f32b3e2f-72c6-47ec-85fe-c67a79550e60",
   "metadata": {
    "tags": []
   },
   "outputs": [
    {
     "name": "stdout",
     "output_type": "stream",
     "text": [
      "datascience\n"
     ]
    }
   ],
   "source": [
    "!whoami"
   ]
  },
  {
   "cell_type": "code",
   "execution_count": null,
   "id": "b46cbc3d-f1d4-43fd-9448-9ab8d13d6ef0",
   "metadata": {},
   "outputs": [],
   "source": []
  }
 ],
 "metadata": {
  "kernelspec": {
   "display_name": "Python 3 (ipykernel)",
   "language": "python",
   "name": "python3"
  },
  "language_info": {
   "codemirror_mode": {
    "name": "ipython",
    "version": 3
   },
   "file_extension": ".py",
   "mimetype": "text/x-python",
   "name": "python",
   "nbconvert_exporter": "python",
   "pygments_lexer": "ipython3",
   "version": "3.11.9"
  }
 },
 "nbformat": 4,
 "nbformat_minor": 5
}
