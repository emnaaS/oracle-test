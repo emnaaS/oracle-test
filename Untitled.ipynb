{
 "cells": [
  {
   "cell_type": "markdown",
   "id": "d48a417e-ff3a-4e23-a972-e07ae2b1d84a",
   "metadata": {},
   "source": [
    "### OCI Data Science - Useful Tips\n",
    "<details>\n",
    "<summary><font size=\"2\">Check for Public Internet Access</font></summary>\n",
    "\n",
    "```python\n",
    "import requests\n",
    "response = requests.get(\"https://oracle.com\")\n",
    "assert response.status_code==200, \"Internet connection failed\"\n",
    "```\n",
    "</details>\n",
    "<details>\n",
    "<summary><font size=\"2\">Helpful Documentation </font></summary>\n",
    "<ul><li><a href=\"https://docs.cloud.oracle.com/en-us/iaas/data-science/using/data-science.htm\">Data Science Service Documentation</a></li>\n",
    "<li><a href=\"https://docs.cloud.oracle.com/iaas/tools/ads-sdk/latest/index.html\">ADS documentation</a></li>\n",
    "</ul>\n",
    "</details>\n",
    "<details>\n",
    "<summary><font size=\"2\">Typical Cell Imports and Settings for ADS</font></summary>\n",
    "\n",
    "```python\n",
    "%load_ext autoreload\n",
    "%autoreload 2\n",
    "%matplotlib inline\n",
    "\n",
    "import warnings\n",
    "warnings.filterwarnings('ignore')\n",
    "\n",
    "import logging\n",
    "logging.basicConfig(format='%(levelname)s:%(message)s', level=logging.ERROR)\n",
    "\n",
    "import ads\n",
    "from ads.dataset.factory import DatasetFactory\n",
    "from ads.automl.provider import OracleAutoMLProvider\n",
    "from ads.automl.driver import AutoML\n",
    "from ads.evaluations.evaluator import ADSEvaluator\n",
    "from ads.common.data import ADSData\n",
    "from ads.explanations.explainer import ADSExplainer\n",
    "from ads.explanations.mlx_global_explainer import MLXGlobalExplainer\n",
    "from ads.explanations.mlx_local_explainer import MLXLocalExplainer\n",
    "from ads.catalog.model import ModelCatalog\n",
    "from ads.common.model_artifact import ModelArtifact\n",
    "```\n",
    "</details>\n",
    "<details>\n",
    "<summary><font size=\"2\">Useful Environment Variables</font></summary>\n",
    "\n",
    "```python\n",
    "import os\n",
    "print(os.environ[\"NB_SESSION_COMPARTMENT_OCID\"])\n",
    "print(os.environ[\"PROJECT_OCID\"])\n",
    "print(os.environ[\"USER_OCID\"])\n",
    "print(os.environ[\"TENANCY_OCID\"])\n",
    "print(os.environ[\"NB_REGION\"])\n",
    "```\n",
    "</details>"
   ]
  },
  {
   "cell_type": "code",
   "execution_count": 40,
   "id": "caff7088-687a-4282-825a-9c29d13fa9ee",
   "metadata": {
    "tags": []
   },
   "outputs": [
    {
     "name": "stdout",
     "output_type": "stream",
     "text": [
      "Nom du CPU        :  AMD EPYC 7J13 64-Core Processor\n",
      "Threads disponibles: 4\n",
      "Architecture       : x86_64\n",
      "RAM totale         : 31.06 Go\n"
     ]
    }
   ],
   "source": [
    "import os\n",
    "import platform\n",
    "import multiprocessing\n",
    "import psutil\n",
    "import subprocess\n",
    "\n",
    "# Nom du processeur\n",
    "cpu_name = subprocess.check_output(\"cat /proc/cpuinfo | grep 'model name' | head -1\", shell=True).decode().strip().split(\":\")[1]\n",
    "\n",
    "\n",
    "# Nombre total de cœurs logiques (threads)\n",
    "threads = multiprocessing.cpu_count()\n",
    "\n",
    "# Architecture\n",
    "architecture = platform.machine()\n",
    "\n",
    "# Mémoire RAM totale (en Go)\n",
    "ram_total = round(psutil.virtual_memory().total / (1024 ** 3), 2)\n",
    "\n",
    "# Infos affichées\n",
    "print(f\"Nom du CPU        : {cpu_name}\")\n",
    "print(f\"Threads disponibles: {threads}\")\n",
    "print(f\"Architecture       : {architecture}\")\n",
    "print(f\"RAM totale         : {ram_total} Go\")"
   ]
  },
  {
   "cell_type": "code",
   "execution_count": 1,
   "id": "cac903f8-6da7-4316-9d88-0ff359235fca",
   "metadata": {
    "tags": []
   },
   "outputs": [],
   "source": [
    "import pandas as pd\n",
    "fraud5 = pd.read_csv('fraud5.csv')"
   ]
  },
  {
   "cell_type": "code",
   "execution_count": 2,
   "id": "18dd4bc4-05d0-43ad-8b13-08687104f42a",
   "metadata": {
    "tags": []
   },
   "outputs": [],
   "source": [
    "import numpy as np\n",
    "fraud5 = np.array(fraud5)"
   ]
  },
  {
   "cell_type": "code",
   "execution_count": 18,
   "id": "1293f8b3-920e-4aeb-8dab-c613316591bf",
   "metadata": {
    "tags": []
   },
   "outputs": [],
   "source": [
    "# Import Python modules\n",
    "from __future__ import division\n",
    "import numpy as np\n",
    "from multiprocessing import Pool\n",
    "import timeit\n",
    "\n",
    "\n",
    "\n",
    "class K_Means_parallel(object):\n",
    "    # Initialize input values n_clusters and max_iter\n",
    "    def __init__(self, n_clusters, max_iter, num_cores):\n",
    "        self.n_clusters = n_clusters\n",
    "        self.max_iter = max_iter\n",
    "        self.num_cores = num_cores\n",
    "\n",
    "    # Function that assigns points to a cluster\n",
    "    def assign_points_to_cluster(self, X):\n",
    "        # Label points according to the minimum euclidean distance\n",
    "        self.labels_ = [self._nearest(self.cluster_centers_, x) for x in X]\n",
    "        # Map labels to data points\n",
    "        indices=[]\n",
    "        for j in range(self.n_clusters):\n",
    "            cluster=[]\n",
    "            for i, l in enumerate(self.labels_):\n",
    "                if l==j: cluster.append(i)\n",
    "            indices.append(cluster)\n",
    "        X_by_cluster = [X[i] for i in indices]\n",
    "        return X_by_cluster\n",
    "\n",
    "    # Function that randomly selects initial centroids\n",
    "    def initial_centroid(self, X):\n",
    "        initial = np.random.permutation(X.shape[0])[:self.n_clusters]\n",
    "        return  X[initial]\n",
    "\n",
    "    # Function that updates centroids and repeats\n",
    "    # assign_points_to_cluster until convergence or max_iter is reached\n",
    "    def fit(self, X):\n",
    "        self.cluster_centers_ = self.initial_centroid(X)\n",
    "        # split data to self.num_cores chunks\n",
    "        splitted_X=self._partition(X,self.num_cores)\n",
    "        for i in range(self.max_iter):\n",
    "            # split data to self.num_cores chunks\n",
    "            #splitted_X=self._partition(X,self.num_cores)\n",
    "            # Parallel Process for assigning points to clusters\n",
    "            p=Pool() #Creates a process pool with multiple workers\n",
    "            result=p.map(self.assign_points_to_cluster, splitted_X ) #apply assign points to cluster on the splitted data\n",
    "            p.close()\n",
    "            # Merge results\n",
    "            p.join() #wait for all processes to complete\n",
    "            X_by_cluster=[]\n",
    "            for c in range(0,self.n_clusters):\n",
    "                r=[]\n",
    "                for p in range(0,self.num_cores):\n",
    "                    tmp=result[p][c].tolist()\n",
    "                    r=sum([r, tmp ], [])\n",
    "                X_by_cluster.append(np.array(r))\n",
    "            # calculate the new centers\n",
    "            new_centers=[c.sum(axis=0)/len(c) for c in X_by_cluster]\n",
    "            new_centers = [np.array(arr) for arr in new_centers]\n",
    "            old_centers=self.cluster_centers_\n",
    "            old_centers = [np.array(arr) for arr in old_centers]\n",
    "            # if the new centroids are the same as the old centroids then\n",
    "            # the algorithm has converged\n",
    "            if all([np.allclose(x, y) for x, y in zip(old_centers, new_centers)]) :\n",
    "                self.number_of_iter=i\n",
    "                break;\n",
    "            else :\n",
    "                self.cluster_centers_ = new_centers\n",
    "        self.number_of_iter=i\n",
    "        return self\n",
    "\n",
    "    # Function that randomly shuffles and partitions the dataset\n",
    "    def _partition ( self,list_in, n):\n",
    "        temp = np.random.permutation(list_in)\n",
    "        result = [temp[i::n] for i in range(n)]\n",
    "        return result\n",
    "\n",
    "    # Function that calculates the minimum euclidean distance\n",
    "    def _nearest(self, clusters, x):\n",
    "        return np.argmin([self._distance(x, c) for c in clusters])\n",
    "\n",
    "    # Function to calculate euclidean distance between two points\n",
    "    def _distance(self, a, b):\n",
    "        return np.sqrt(((a - b)**2).sum())\n",
    "\n",
    "    # Function that returns predicted clusters for each point\n",
    "    def predict(self, X):\n",
    "        return self.labels_"
   ]
  },
  {
   "cell_type": "code",
   "execution_count": 33,
   "id": "74ead82b-8d03-44f4-bce5-e1af3b77ea81",
   "metadata": {
    "tags": []
   },
   "outputs": [
    {
     "name": "stdout",
     "output_type": "stream",
     "text": [
      "parallel time = 195.69 secondes\n"
     ]
    }
   ],
   "source": [
    "import statistics\n",
    "import time\n",
    "parallel_times = []\n",
    "parakmeans = K_Means_parallel(n_clusters = 2, max_iter = 300, num_cores = 2)\n",
    "for i in range(10):\n",
    "    debut = time.time()\n",
    "    parakmeans.fit(fraud5)\n",
    "    fin = time.time()\n",
    "    parallel_times.append(fin-debut)\n",
    "print(f'parallel time = {statistics.mean(parallel_times):.2f} secondes')"
   ]
  },
  {
   "cell_type": "code",
   "execution_count": 32,
   "id": "65170227-8ac9-4c41-8a54-ce2229899963",
   "metadata": {
    "tags": []
   },
   "outputs": [
    {
     "name": "stdout",
     "output_type": "stream",
     "text": [
      "[6.05, 19.79019763469696, 36.61280455589294, 82.59658093452454, 173.80977625846862]\n"
     ]
    }
   ],
   "source": [
    "par_time_per_sample4.append(statistics.mean(parallel_times))\n",
    "print(par_time_per_sample4)"
   ]
  },
  {
   "cell_type": "code",
   "execution_count": 34,
   "id": "37ed6555-219d-42e1-86eb-48431fdd5c1e",
   "metadata": {
    "tags": []
   },
   "outputs": [
    {
     "name": "stdout",
     "output_type": "stream",
     "text": [
      "[6.02, 19.651443886756898, 46.23, 91.83269021511077, 195.68970322608948]\n"
     ]
    }
   ],
   "source": [
    "par_time_per_sample.append(statistics.mean(parallel_times))\n",
    "print(par_time_per_sample)"
   ]
  },
  {
   "cell_type": "code",
   "execution_count": 4,
   "id": "690cb108-815c-4355-888e-65427cb2d269",
   "metadata": {
    "tags": []
   },
   "outputs": [
    {
     "name": "stdout",
     "output_type": "stream",
     "text": [
      "Collecting ray[default]\n",
      "  Using cached ray-2.46.0-cp311-cp311-manylinux2014_x86_64.whl.metadata (19 kB)\n",
      "Requirement already satisfied: click>=7.0 in /opt/conda/lib/python3.11/site-packages (from ray[default]) (8.0.4)\n",
      "Requirement already satisfied: filelock in /opt/conda/lib/python3.11/site-packages (from ray[default]) (3.18.0)\n",
      "Requirement already satisfied: jsonschema in /opt/conda/lib/python3.11/site-packages (from ray[default]) (4.23.0)\n",
      "Collecting msgpack<2.0.0,>=1.0.0 (from ray[default])\n",
      "  Using cached msgpack-1.1.0-cp311-cp311-manylinux_2_17_x86_64.manylinux2014_x86_64.whl.metadata (8.4 kB)\n",
      "Requirement already satisfied: packaging in /opt/conda/lib/python3.11/site-packages (from ray[default]) (24.0)\n",
      "Collecting protobuf!=3.19.5,>=3.15.3 (from ray[default])\n",
      "  Using cached protobuf-6.31.1-cp39-abi3-manylinux2014_x86_64.whl.metadata (593 bytes)\n",
      "Requirement already satisfied: pyyaml in /opt/conda/lib/python3.11/site-packages (from ray[default]) (6.0.1)\n",
      "Requirement already satisfied: requests in /opt/conda/lib/python3.11/site-packages (from ray[default]) (2.31.0)\n",
      "Requirement already satisfied: aiohttp>=3.7 in /opt/conda/lib/python3.11/site-packages (from ray[default]) (3.11.18)\n",
      "Collecting aiohttp_cors (from ray[default])\n",
      "  Using cached aiohttp_cors-0.8.1-py3-none-any.whl.metadata (20 kB)\n",
      "Collecting colorful (from ray[default])\n",
      "  Using cached colorful-0.5.6-py2.py3-none-any.whl.metadata (16 kB)\n",
      "Collecting py-spy>=0.2.0 (from ray[default])\n",
      "  Using cached py_spy-0.4.0-py2.py3-none-manylinux_2_5_x86_64.manylinux1_x86_64.whl.metadata (16 kB)\n",
      "Collecting grpcio>=1.42.0 (from ray[default])\n",
      "  Downloading grpcio-1.73.0-cp311-cp311-manylinux_2_17_x86_64.manylinux2014_x86_64.whl.metadata (3.8 kB)\n",
      "Collecting opencensus (from ray[default])\n",
      "  Using cached opencensus-0.11.4-py2.py3-none-any.whl.metadata (12 kB)\n",
      "Requirement already satisfied: pydantic!=2.0.*,!=2.1.*,!=2.2.*,!=2.3.*,!=2.4.*,<3 in /opt/conda/lib/python3.11/site-packages (from ray[default]) (2.11.4)\n",
      "Requirement already satisfied: prometheus_client>=0.7.1 in /opt/conda/lib/python3.11/site-packages (from ray[default]) (0.22.0)\n",
      "Collecting smart_open (from ray[default])\n",
      "  Using cached smart_open-7.1.0-py3-none-any.whl.metadata (24 kB)\n",
      "Collecting virtualenv!=20.21.1,>=20.0.24 (from ray[default])\n",
      "  Using cached virtualenv-20.31.2-py3-none-any.whl.metadata (4.5 kB)\n",
      "Requirement already satisfied: annotated-types>=0.6.0 in /opt/conda/lib/python3.11/site-packages (from pydantic!=2.0.*,!=2.1.*,!=2.2.*,!=2.3.*,!=2.4.*,<3->ray[default]) (0.7.0)\n",
      "Requirement already satisfied: pydantic-core==2.33.2 in /opt/conda/lib/python3.11/site-packages (from pydantic!=2.0.*,!=2.1.*,!=2.2.*,!=2.3.*,!=2.4.*,<3->ray[default]) (2.33.2)\n",
      "Requirement already satisfied: typing-extensions>=4.12.2 in /opt/conda/lib/python3.11/site-packages (from pydantic!=2.0.*,!=2.1.*,!=2.2.*,!=2.3.*,!=2.4.*,<3->ray[default]) (4.13.2)\n",
      "Requirement already satisfied: typing-inspection>=0.4.0 in /opt/conda/lib/python3.11/site-packages (from pydantic!=2.0.*,!=2.1.*,!=2.2.*,!=2.3.*,!=2.4.*,<3->ray[default]) (0.4.0)\n",
      "Requirement already satisfied: aiohappyeyeballs>=2.3.0 in /opt/conda/lib/python3.11/site-packages (from aiohttp>=3.7->ray[default]) (2.6.1)\n",
      "Requirement already satisfied: aiosignal>=1.1.2 in /opt/conda/lib/python3.11/site-packages (from aiohttp>=3.7->ray[default]) (1.3.2)\n",
      "Requirement already satisfied: attrs>=17.3.0 in /opt/conda/lib/python3.11/site-packages (from aiohttp>=3.7->ray[default]) (25.3.0)\n",
      "Requirement already satisfied: frozenlist>=1.1.1 in /opt/conda/lib/python3.11/site-packages (from aiohttp>=3.7->ray[default]) (1.6.0)\n",
      "Requirement already satisfied: multidict<7.0,>=4.5 in /opt/conda/lib/python3.11/site-packages (from aiohttp>=3.7->ray[default]) (6.4.4)\n",
      "Requirement already satisfied: propcache>=0.2.0 in /opt/conda/lib/python3.11/site-packages (from aiohttp>=3.7->ray[default]) (0.3.1)\n",
      "Requirement already satisfied: yarl<2.0,>=1.17.0 in /opt/conda/lib/python3.11/site-packages (from aiohttp>=3.7->ray[default]) (1.20.0)\n",
      "Requirement already satisfied: idna>=2.0 in /opt/conda/lib/python3.11/site-packages (from yarl<2.0,>=1.17.0->aiohttp>=3.7->ray[default]) (3.10)\n",
      "Collecting distlib<1,>=0.3.7 (from virtualenv!=20.21.1,>=20.0.24->ray[default])\n",
      "  Using cached distlib-0.3.9-py2.py3-none-any.whl.metadata (5.2 kB)\n",
      "Requirement already satisfied: platformdirs<5,>=3.9.1 in /opt/conda/lib/python3.11/site-packages (from virtualenv!=20.21.1,>=20.0.24->ray[default]) (4.2.0)\n",
      "Requirement already satisfied: jsonschema-specifications>=2023.03.6 in /opt/conda/lib/python3.11/site-packages (from jsonschema->ray[default]) (2025.4.1)\n",
      "Requirement already satisfied: referencing>=0.28.4 in /opt/conda/lib/python3.11/site-packages (from jsonschema->ray[default]) (0.36.2)\n",
      "Requirement already satisfied: rpds-py>=0.7.1 in /opt/conda/lib/python3.11/site-packages (from jsonschema->ray[default]) (0.25.0)\n",
      "Collecting opencensus-context>=0.1.3 (from opencensus->ray[default])\n",
      "  Using cached opencensus_context-0.1.3-py2.py3-none-any.whl.metadata (3.3 kB)\n",
      "Requirement already satisfied: six~=1.16 in /opt/conda/lib/python3.11/site-packages (from opencensus->ray[default]) (1.17.0)\n",
      "Collecting google-api-core<3.0.0,>=1.0.0 (from opencensus->ray[default])\n",
      "  Using cached google_api_core-2.25.0-py3-none-any.whl.metadata (3.0 kB)\n",
      "Collecting googleapis-common-protos<2.0.0,>=1.56.2 (from google-api-core<3.0.0,>=1.0.0->opencensus->ray[default])\n",
      "  Using cached googleapis_common_protos-1.70.0-py3-none-any.whl.metadata (9.3 kB)\n",
      "Collecting proto-plus<2.0.0,>=1.22.3 (from google-api-core<3.0.0,>=1.0.0->opencensus->ray[default])\n",
      "  Using cached proto_plus-1.26.1-py3-none-any.whl.metadata (2.2 kB)\n",
      "Collecting google-auth<3.0.0,>=2.14.1 (from google-api-core<3.0.0,>=1.0.0->opencensus->ray[default])\n",
      "  Using cached google_auth-2.40.3-py2.py3-none-any.whl.metadata (6.2 kB)\n",
      "Requirement already satisfied: cachetools<6.0,>=2.0.0 in /opt/conda/lib/python3.11/site-packages (from google-auth<3.0.0,>=2.14.1->google-api-core<3.0.0,>=1.0.0->opencensus->ray[default]) (5.5.2)\n",
      "Collecting pyasn1-modules>=0.2.1 (from google-auth<3.0.0,>=2.14.1->google-api-core<3.0.0,>=1.0.0->opencensus->ray[default])\n",
      "  Using cached pyasn1_modules-0.4.2-py3-none-any.whl.metadata (3.5 kB)\n",
      "Collecting rsa<5,>=3.1.4 (from google-auth<3.0.0,>=2.14.1->google-api-core<3.0.0,>=1.0.0->opencensus->ray[default])\n",
      "  Using cached rsa-4.9.1-py3-none-any.whl.metadata (5.6 kB)\n",
      "Requirement already satisfied: charset-normalizer<4,>=2 in /opt/conda/lib/python3.11/site-packages (from requests->ray[default]) (3.3.2)\n",
      "Requirement already satisfied: urllib3<3,>=1.21.1 in /opt/conda/lib/python3.11/site-packages (from requests->ray[default]) (2.4.0)\n",
      "Requirement already satisfied: certifi>=2017.4.17 in /opt/conda/lib/python3.11/site-packages (from requests->ray[default]) (2025.4.26)\n",
      "Collecting pyasn1>=0.1.3 (from rsa<5,>=3.1.4->google-auth<3.0.0,>=2.14.1->google-api-core<3.0.0,>=1.0.0->opencensus->ray[default])\n",
      "  Using cached pyasn1-0.6.1-py3-none-any.whl.metadata (8.4 kB)\n",
      "Collecting wrapt (from smart_open->ray[default])\n",
      "  Using cached wrapt-1.17.2-cp311-cp311-manylinux_2_5_x86_64.manylinux1_x86_64.manylinux_2_17_x86_64.manylinux2014_x86_64.whl.metadata (6.4 kB)\n",
      "Using cached ray-2.46.0-cp311-cp311-manylinux2014_x86_64.whl (68.5 MB)\n",
      "Using cached msgpack-1.1.0-cp311-cp311-manylinux_2_17_x86_64.manylinux2014_x86_64.whl (403 kB)\n",
      "Downloading grpcio-1.73.0-cp311-cp311-manylinux_2_17_x86_64.manylinux2014_x86_64.whl (6.0 MB)\n",
      "\u001b[2K   \u001b[90m━━━━━━━━━━━━━━━━━━━━━━━━━━━━━━━━━━━━━━━━\u001b[0m \u001b[32m6.0/6.0 MB\u001b[0m \u001b[31m105.7 MB/s\u001b[0m eta \u001b[36m0:00:00\u001b[0m\n",
      "\u001b[?25hUsing cached protobuf-6.31.1-cp39-abi3-manylinux2014_x86_64.whl (321 kB)\n",
      "Using cached py_spy-0.4.0-py2.py3-none-manylinux_2_5_x86_64.manylinux1_x86_64.whl (2.7 MB)\n",
      "Using cached virtualenv-20.31.2-py3-none-any.whl (6.1 MB)\n",
      "Using cached distlib-0.3.9-py2.py3-none-any.whl (468 kB)\n",
      "Using cached aiohttp_cors-0.8.1-py3-none-any.whl (25 kB)\n",
      "Using cached colorful-0.5.6-py2.py3-none-any.whl (201 kB)\n",
      "Using cached opencensus-0.11.4-py2.py3-none-any.whl (128 kB)\n",
      "Using cached google_api_core-2.25.0-py3-none-any.whl (160 kB)\n",
      "Using cached google_auth-2.40.3-py2.py3-none-any.whl (216 kB)\n",
      "Using cached googleapis_common_protos-1.70.0-py3-none-any.whl (294 kB)\n",
      "Using cached proto_plus-1.26.1-py3-none-any.whl (50 kB)\n",
      "Using cached rsa-4.9.1-py3-none-any.whl (34 kB)\n",
      "Using cached opencensus_context-0.1.3-py2.py3-none-any.whl (5.1 kB)\n",
      "Using cached pyasn1-0.6.1-py3-none-any.whl (83 kB)\n",
      "Using cached pyasn1_modules-0.4.2-py3-none-any.whl (181 kB)\n",
      "Using cached smart_open-7.1.0-py3-none-any.whl (61 kB)\n",
      "Using cached wrapt-1.17.2-cp311-cp311-manylinux_2_5_x86_64.manylinux1_x86_64.manylinux_2_17_x86_64.manylinux2014_x86_64.whl (83 kB)\n",
      "Installing collected packages: py-spy, opencensus-context, distlib, colorful, wrapt, virtualenv, pyasn1, protobuf, msgpack, grpcio, smart_open, rsa, pyasn1-modules, proto-plus, googleapis-common-protos, google-auth, aiohttp_cors, ray, google-api-core, opencensus\n",
      "\u001b[2K   \u001b[90m━━━━━━━━━━━━━━━━━━━━━━━━━━━━━━━━━━━━━━━━\u001b[0m \u001b[32m20/20\u001b[0m [opencensus]0\u001b[0m [google-api-core]n-protos]\n",
      "\u001b[1A\u001b[2KSuccessfully installed aiohttp_cors-0.8.1 colorful-0.5.6 distlib-0.3.9 google-api-core-2.25.0 google-auth-2.40.3 googleapis-common-protos-1.70.0 grpcio-1.73.0 msgpack-1.1.0 opencensus-0.11.4 opencensus-context-0.1.3 proto-plus-1.26.1 protobuf-6.31.1 py-spy-0.4.0 pyasn1-0.6.1 pyasn1-modules-0.4.2 ray-2.46.0 rsa-4.9.1 smart_open-7.1.0 virtualenv-20.31.2 wrapt-1.17.2\n"
     ]
    }
   ],
   "source": [
    "!pip install -U \"ray[default]\""
   ]
  },
  {
   "cell_type": "code",
   "execution_count": 5,
   "id": "d10035a1-efa3-4d59-bff9-3dcdcdf01a61",
   "metadata": {
    "tags": []
   },
   "outputs": [],
   "source": [
    "from __future__ import division\n",
    "import numpy as np\n",
    "import ray\n",
    "import timeit\n",
    "\n",
    "class K_Means_parallel_ray(object):\n",
    "    # Initialize input values n_clusters and max_iter\n",
    "    def __init__(self, n_clusters, max_iter, num_cores):\n",
    "        self.n_clusters = n_clusters\n",
    "        self.max_iter = max_iter\n",
    "        self.num_cores = num_cores\n",
    "        self.labels_ = None\n",
    "        self.cluster_centers_ = None\n",
    "        self.number_of_iter = None\n",
    "\n",
    "    # Function that assigns points to a cluster\n",
    "    @ray.remote(num_cpus = 1)\n",
    "    def assign_points_to_cluster(self, X, cluster_centers):\n",
    "        # Label points according to the minimum euclidean distance\n",
    "        labels = [self._nearest(cluster_centers, x) for x in X]\n",
    "        # Map labels to data points\n",
    "        indices = []\n",
    "        for j in range(self.n_clusters):\n",
    "            cluster = []\n",
    "            for i, l in enumerate(labels):\n",
    "                if l == j:\n",
    "                    cluster.append(i)\n",
    "            indices.append(cluster)\n",
    "        X_by_cluster = [X[i] for i in indices]\n",
    "        return X_by_cluster\n",
    "\n",
    "    # Function that randomly selects initial centroids\n",
    "    def initial_centroid(self, X):\n",
    "        initial = np.random.permutation(X.shape[0])[:self.n_clusters]\n",
    "        return X[initial]\n",
    "\n",
    "    # Function that updates centroids and repeats\n",
    "    # assign_points_to_cluster until convergence or max_iter is reached\n",
    "    def fit(self, X):\n",
    "        self.cluster_centers_ = self.initial_centroid(X)\n",
    "        # Split data into self.num_cores chunks\n",
    "        splitted_X = self._partition(X, self.num_cores)\n",
    "        for i in range(self.max_iter):\n",
    "            # Parallel process for assigning points to clusters using Ray\n",
    "            result_ids = [self.assign_points_to_cluster.remote(self, chunk, self.cluster_centers_) for chunk in splitted_X]\n",
    "            # Collect results\n",
    "            results = ray.get(result_ids)\n",
    "            # Merge results\n",
    "            X_by_cluster = []\n",
    "            for c in range(self.n_clusters):\n",
    "                r = []\n",
    "                for p in range(self.num_cores):\n",
    "                    tmp = results[p][c].tolist()\n",
    "                    r = r + tmp\n",
    "                X_by_cluster.append(np.array(r))\n",
    "            # Calculate the new centers\n",
    "            new_centers = [c.sum(axis=0) / len(c) if len(c) > 0 else self.cluster_centers_[c_idx] for c_idx, c in enumerate(X_by_cluster)]\n",
    "            new_centers = [np.array(arr) for arr in new_centers]\n",
    "            old_centers = self.cluster_centers_\n",
    "            old_centers = [np.array(arr) for arr in old_centers]\n",
    "            # If the new centroids are the same as the old centroids, the algorithm has converged\n",
    "            if all([np.allclose(x, y) for x, y in zip(old_centers, new_centers)]):\n",
    "                self.number_of_iter = i\n",
    "                break\n",
    "            else:\n",
    "                self.cluster_centers_ = new_centers\n",
    "            # Update labels for all data points\n",
    "            self.labels_ = [self._nearest(self.cluster_centers_, x) for x in X]\n",
    "        self.number_of_iter = i\n",
    "        return self\n",
    "\n",
    "    # Function that randomly shuffles and partitions the dataset\n",
    "    def _partition(self, list_in, n):\n",
    "        temp = np.random.permutation(list_in)\n",
    "        result = [temp[i::n] for i in range(n)]\n",
    "        return result\n",
    "\n",
    "    # Function that calculates the minimum euclidean distance\n",
    "    def _nearest(self, clusters, x):\n",
    "        return np.argmin([self._distance(x, c) for c in clusters])\n",
    "\n",
    "    # Function to calculate euclidean distance between two points\n",
    "    def _distance(self, a, b):\n",
    "        return np.sqrt(((a - b) ** 2).sum())\n",
    "\n",
    "    # Function that returns predicted clusters for each point\n",
    "    def predict(self, X):\n",
    "        return self.labels_"
   ]
  },
  {
   "cell_type": "code",
   "execution_count": 65,
   "id": "b673b84f-687e-46bd-bdc5-485313344965",
   "metadata": {
    "tags": []
   },
   "outputs": [],
   "source": [
    "ray.shutdown()"
   ]
  },
  {
   "cell_type": "code",
   "execution_count": 7,
   "id": "183d6d53-8c3a-43b7-9587-de6fc5a12d50",
   "metadata": {
    "tags": []
   },
   "outputs": [
    {
     "ename": "NameError",
     "evalue": "name 'psutil' is not defined",
     "output_type": "error",
     "traceback": [
      "\u001b[0;31m---------------------------------------------------------------------------\u001b[0m",
      "\u001b[0;31mNameError\u001b[0m                                 Traceback (most recent call last)",
      "Cell \u001b[0;32mIn[7], line 2\u001b[0m\n\u001b[1;32m      1\u001b[0m \u001b[38;5;66;03m# Get total RAM in bytes\u001b[39;00m\n\u001b[0;32m----> 2\u001b[0m total_ram_bytes \u001b[38;5;241m=\u001b[39m \u001b[43mpsutil\u001b[49m\u001b[38;5;241m.\u001b[39mvirtual_memory()\u001b[38;5;241m.\u001b[39mtotal\n\u001b[1;32m      4\u001b[0m \u001b[38;5;66;03m# Calculate 80% of total RAM\u001b[39;00m\n\u001b[1;32m      5\u001b[0m desired_memory_bytes \u001b[38;5;241m=\u001b[39m \u001b[38;5;28mint\u001b[39m(total_ram_bytes \u001b[38;5;241m*\u001b[39m \u001b[38;5;241m0.1\u001b[39m)\n",
      "\u001b[0;31mNameError\u001b[0m: name 'psutil' is not defined"
     ]
    }
   ],
   "source": [
    "# Get total RAM in bytes\n",
    "total_ram_bytes = psutil.virtual_memory().total\n",
    "\n",
    "# Calculate 80% of total RAM\n",
    "desired_memory_bytes = int(total_ram_bytes * 0.1)\n",
    "\n",
    "print(f\"Total RAM: {total_ram_bytes / (1024**3):.2f} GB\")\n",
    "print(f\"Allocating 80% to Ray object store memory: {desired_memory_bytes / (1024**3):.2f} GB\")"
   ]
  },
  {
   "cell_type": "code",
   "execution_count": 6,
   "id": "0239002b-7928-4db7-a363-f278cf87e7ae",
   "metadata": {
    "tags": []
   },
   "outputs": [
    {
     "ename": "NameError",
     "evalue": "name 'desired_memory_bytes' is not defined",
     "output_type": "error",
     "traceback": [
      "\u001b[0;31m---------------------------------------------------------------------------\u001b[0m",
      "\u001b[0;31mNameError\u001b[0m                                 Traceback (most recent call last)",
      "Cell \u001b[0;32mIn[6], line 1\u001b[0m\n\u001b[0;32m----> 1\u001b[0m ray\u001b[38;5;241m.\u001b[39minit(num_cpus \u001b[38;5;241m=\u001b[39m \u001b[38;5;241m4\u001b[39m, object_store_memory\u001b[38;5;241m=\u001b[39m\u001b[43mdesired_memory_bytes\u001b[49m)\n\u001b[1;32m      2\u001b[0m total_memory \u001b[38;5;241m=\u001b[39m ray\u001b[38;5;241m.\u001b[39mavailable_resources()\n\u001b[1;32m      3\u001b[0m \u001b[38;5;28mprint\u001b[39m(total_memory)\n",
      "\u001b[0;31mNameError\u001b[0m: name 'desired_memory_bytes' is not defined"
     ]
    }
   ],
   "source": [
    "ray.init(num_cpus = 4, object_store_memory=desired_memory_bytes)\n",
    "total_memory = ray.available_resources()\n",
    "print(total_memory)"
   ]
  },
  {
   "cell_type": "code",
   "execution_count": 9,
   "id": "41d8b8e8-da88-472b-a913-2e6b975d045a",
   "metadata": {
    "tags": []
   },
   "outputs": [
    {
     "name": "stderr",
     "output_type": "stream",
     "text": [
      "2025-06-11 17:15:47,110\tWARNING services.py:2159 -- WARNING: The object store is using /tmp instead of /dev/shm because /dev/shm has only 4000002048 bytes available. This will harm performance! You may be able to free up space by deleting files in /dev/shm. If you are inside a Docker container, you can increase /dev/shm size by passing '--shm-size=8.38gb' to 'docker run' (or add it to the run_options list in a Ray cluster config). Make sure to set this to more than 30% of available RAM.\n",
      "2025-06-11 17:15:48,264\tINFO worker.py:1879 -- Started a local Ray instance. View the dashboard at \u001b[1m\u001b[32mhttp://127.0.0.1:8265 \u001b[39m\u001b[22m\n"
     ]
    },
    {
     "name": "stdout",
     "output_type": "stream",
     "text": [
      "parallel time = 462.12 secondes\n"
     ]
    }
   ],
   "source": [
    "import time\n",
    "import statistics\n",
    "ray.init(num_cpus=2)  \n",
    "ray_time = []\n",
    "for i in range(10):\n",
    "    kmeans = K_Means_parallel_ray(n_clusters=2, max_iter=300, num_cores=2)\n",
    "    debut = time.time()\n",
    "    kmeans.fit(fraud5)\n",
    "    fin = time.time()\n",
    "    ray_time.append(fin-debut)\n",
    "print(f'parallel time = {statistics.mean(ray_time):.2f} secondes')\n",
    "\n",
    "    # Shutdown Ray\n",
    "ray.shutdown()"
   ]
  },
  {
   "cell_type": "code",
   "execution_count": 37,
   "id": "57510229-7c9e-4601-880b-32e2a3382322",
   "metadata": {
    "tags": []
   },
   "outputs": [
    {
     "name": "stdout",
     "output_type": "stream",
     "text": [
      "temps seqentiel = 283.3451 secondes\n"
     ]
    }
   ],
   "source": [
    "import time\n",
    "import statistics\n",
    "times = []\n",
    "kmeans = K_Means(n_clusters=2, max_iter=300)\n",
    "for i in range(10):\n",
    "  debut = time.time()\n",
    "  kmeans.fit(fraud5)\n",
    "  fin = time.time()\n",
    "  times.append(fin-debut)\n",
    "print(f'temps seqentiel = {statistics.mean(times):.4f} secondes')"
   ]
  },
  {
   "cell_type": "code",
   "execution_count": 31,
   "id": "a577f770-1ec0-4383-a2c9-903d4dd7533c",
   "metadata": {
    "tags": []
   },
   "outputs": [],
   "source": [
    "fraud4 = pd.read_csv('fraud4.csv')"
   ]
  },
  {
   "cell_type": "code",
   "execution_count": 32,
   "id": "508cdbb4-ee6a-43df-b9d4-de5ddfe68385",
   "metadata": {
    "tags": []
   },
   "outputs": [],
   "source": [
    "fraud4 = np.array(fraud4)"
   ]
  },
  {
   "cell_type": "code",
   "execution_count": 38,
   "id": "4ab0590a-801d-48bb-a61f-9b69f8f042c7",
   "metadata": {
    "tags": []
   },
   "outputs": [
    {
     "name": "stdout",
     "output_type": "stream",
     "text": [
      "[8.829094409942627, 29.283502459526062, 69.23711059093475, 153.4809, 283.3451379060745]\n"
     ]
    }
   ],
   "source": [
    "seq_time_per_sample.append(statistics.mean(times))\n",
    "print(seq_time_per_sample)"
   ]
  },
  {
   "cell_type": "code",
   "execution_count": 8,
   "id": "7d19f6b2-7d49-4605-9d77-b7863b2c11b0",
   "metadata": {},
   "outputs": [],
   "source": [
    "seq_time_per_sample = [8.829094409942627, 29.283502459526062, 69.23711059093475, 153.4809]"
   ]
  },
  {
   "cell_type": "code",
   "execution_count": 39,
   "id": "9856a5b8-14bf-4b21-81e5-41fcd0f08cbb",
   "metadata": {
    "tags": []
   },
   "outputs": [
    {
     "name": "stdout",
     "output_type": "stream",
     "text": [
      "[50000, 100000, 250000, 500000, 1000000]\n"
     ]
    }
   ],
   "source": [
    "n_samples = [len(fraud1), len(fraud2), len(fraud3), len(fraud4), len(fraud5)]\n",
    "print(n_samples)"
   ]
  },
  {
   "cell_type": "code",
   "execution_count": 46,
   "id": "39a21b36-9b7f-4730-a907-582464c225c5",
   "metadata": {
    "tags": []
   },
   "outputs": [
    {
     "data": {
      "image/png": "[encoded data removed]",
      "text/plain": [
       "<Figure size 1000x600 with 1 Axes>"
      ]
     },
     "metadata": {},
     "output_type": "display_data"
    }
   ],
   "source": [
    "# Number of groups and bar width\n",
    "x = np.arange(len(n_samples))\n",
    "width = 0.25\n",
    "\n",
    "# Create plot\n",
    "fig, ax = plt.subplots(figsize=(10, 6))\n",
    "bar1 = ax.bar(x - width, seq_time_per_sample, width, label='Sequential')\n",
    "bar2 = ax.bar(x, par_time_per_sample, width, label='Parallel (2 cores)')\n",
    "bar3 = ax.bar(x + width, par_time_per_sample4, width, label='Parallel (4 cores)')\n",
    "\n",
    "# Labels and legend\n",
    "ax.set_xlabel('Number of Samples')\n",
    "ax.set_ylabel('Execution Time (s)')\n",
    "ax.set_title('Execution Time per dataset Size')\n",
    "ax.set_xticks(x)\n",
    "ax.set_xticklabels(n_samples)\n",
    "ax.legend()\n",
    "\n",
    "# Show plot\n",
    "plt.grid(True, linestyle='--', alpha=0.5)\n",
    "plt.tight_layout()\n",
    "plt.show()"
   ]
  },
  {
   "cell_type": "code",
   "execution_count": null,
   "id": "33960247-e065-4529-bc38-53ab1398f12b",
   "metadata": {},
   "outputs": [],
   "source": []
  }
 ],
 "metadata": {
  "kernelspec": {
   "display_name": "Python 3 (ipykernel)",
   "language": "python",
   "name": "python3"
  },
  "language_info": {
   "codemirror_mode": {
    "name": "ipython",
    "version": 3
   },
   "file_extension": ".py",
   "mimetype": "text/x-python",
   "name": "python",
   "nbconvert_exporter": "python",
   "pygments_lexer": "ipython3",
   "version": "3.11.9"
  }
 },
 "nbformat": 4,
 "nbformat_minor": 5
}
